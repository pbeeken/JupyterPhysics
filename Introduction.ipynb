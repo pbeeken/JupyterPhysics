{
  "nbformat": 4,
  "nbformat_minor": 0,
  "metadata": {
    "colab": {
      "name": "Introduction.ipynb",
      "provenance": [],
      "authorship_tag": "ABX9TyNQrniGsQ2F+jGpnx7twaqP",
      "include_colab_link": true
    },
    "kernelspec": {
      "name": "python3",
      "display_name": "Python 3"
    }
  },
  "cells": [
    {
      "cell_type": "markdown",
      "metadata": {
        "id": "view-in-github",
        "colab_type": "text"
      },
      "source": [
        "<a href=\"https://colab.research.google.com/github/pbeeken/JupyterPhysics/blob/master/Introduction.ipynb\" target=\"_parent\"><img src=\"https://colab.research.google.com/assets/colab-badge.svg\" alt=\"Open In Colab\"/></a>"
      ]
    },
    {
      "cell_type": "markdown",
      "metadata": {
        "id": "1IT5PWyo1xCj",
        "colab_type": "text"
      },
      "source": [
        "# Introduction"
      ]
    },
    {
      "cell_type": "markdown",
      "metadata": {
        "id": "7wjhc0nFyczI",
        "colab_type": "text"
      },
      "source": [
        ">*“Technology without careful thought and integration into curriculum is at best useless and at worst a distraction.”*\n",
        "\n",
        "The mission of this workbook is to present modules which can be used to provoke thought on how to provide a framework for student understanding. Physics is, at its core, an empirical science. We are trying to unravel the operating manual of the universe by tinkering with its parts. More often than not we develop some very useful tools along the way. Sometimes, the tools are dangerous but with the right care can they also be beneficial. \n",
        "\n",
        "Modelling is both an educational framework[ref] but also a method of understanding our world. We build models to explore the things that influence outcomes. Particularly useful models set the domain of experimental inputs to a phenomenon we can measure. Successfully matching the behavior with the results of our models is the essence of understanding. As our ‘understanding’ grows so does our desire to push the limits of the model. Frustrating as it may be in the moment, breaking a well tested model is often the start of great new discoveries. Learning from this process is what science is all about.\n",
        "\n",
        "Science generates facts but facts are byproducts of the mechanism of discovery. Devising a correct fact is far less important than the means by which the idea was justified. Communication is a vital part of this process. For the most part, investigators would use multiple tools to devise models, organize data, present analysis and justify conclusions in the push for deeper insight. Ideally, in a classroom setting, we would like to emulate this process as part of our teaching strategy but time and space in the curriculum often forces shortcuts. Taking data in the laboratory setting involves collecting multiple measurements, many times with electronic instruments, the information is stored, analyzed, and evaluated against a predictive model. Results are used to verify or refute the model. All the while students need to describe their thinking and the process they are using as they move throughout the analysis. \n",
        "\n",
        "Traditional means of reporting requires students to coordinate multiple tools that serve specific purposes. Mathematical models written out by hand can be translated into documents through formula editors. Numerically evaluating models depend on calculators with the aid of some programming. Data tables are often analyzed using spreadsheets which generate tables and graphs. Word processors are used to pull all of this material together into a document. During this whole process students must struggle with the mechanics of moving information between multiple sources and tools to coordinate the arguments into one place.\n"
      ]
    },
    {
      "cell_type": "markdown",
      "metadata": {
        "id": "RnLgUtWK2epz",
        "colab_type": "text"
      },
      "source": [
        "## Why change from spreadsheets?"
      ]
    },
    {
      "cell_type": "markdown",
      "metadata": {
        "id": "rnIbZS_N2gqQ",
        "colab_type": "text"
      },
      "source": [
        "Currently, in the science classroom, spreadsheets (SS) form the bulk of numerical analysis. Spreadsheets were a revolution in their day but are engineered for accounting. Science and engineering co-opted the technology because, much of the time, we can catalog information in tables. The numerical capabilities of SS are ideal for performing systematic calculations on the data on an element by element basis. Data graphing is a standard feature of most spreadsheet environments and is essential for visualizing large data sets. The business application of spreadsheets, however, drives the design of these tools that require people in the engineering and science world to constantly adapt to this environment. Using SS, as a consequence, can become tedious when managing complex calculations and visualization tools.\n",
        "\n",
        "A clear example of how the mechanics of SS can get in the way of mathematical modelling is demonstrated by the way calculations are performed on large data sets. Spreadsheets organize data in cells. To perform a calculation on a column of values requires that you set up the calculation for one cell and then copy the calculation down an entire adjacent column. Generally, this works well but if you desire to change the calculation (or model) this sequence must be repeated each time. For large datasets that extend below the view it is easy to make an error in the 'propagation' (copied down the column) and the imperfection can go unnoticed.\n",
        "\n",
        "In an effort to make the manipulation of SS easy for all users, many of the operations required to perform even routine tasks are done through menus and dialog boxes. If you don't keep careful track of which menu/dialog/option you chose and in what order, it is hard to reproduce what you did the next time you want to perform a similar set of operations. This problem becomes particularly acute with the graphing of data. Something we do all the time.\n",
        "\n",
        "Almost all business graphing assumes that data is equally spaced (daily, monthly or quarterly) so the need for charting correlated data pairs is rarely needed. In engineering and science in general, data comes as correlated pairs not necessarily evenly spaced so we rely on 'scatter plots'. The default charting method in spreadsheets often has to be overridden using a variety of menu and dialog steps which are hard to recall.\n",
        "\n",
        "Finally, while SS are a fine tool, if you need to annotate or explain the nature of what you are doing or why, you must copy the relevant pieces to a word processing file (requiring a context switch) to document your activities. Redoing a calculation or graph often requires navigating back and forth between a couple of related tools making revisions tedious."
      ]
    },
    {
      "cell_type": "markdown",
      "metadata": {
        "id": "dROQw0am24W0",
        "colab_type": "text"
      },
      "source": [
        "## Addenda:\n",
        "Jupyter is still evolving.  Even though the current rendition is fine there is always an interest and demand for a more professional and configurable environment.  JupyterLab promises a multi-level development system which can support multiple kernels, a multi-window interface and interactive graphical tools.  A truly professional kit.  The point is that there is another level beyond what we are exploring here, so beyond the basic skills being taught here, there is a rich future for data tools."
      ]
    },
    {
      "cell_type": "markdown",
      "metadata": {
        "id": "U9ivmpsc2_Te",
        "colab_type": "text"
      },
      "source": [
        "# Audience"
      ]
    },
    {
      "cell_type": "markdown",
      "metadata": {
        "id": "bUSJ8elq3Fi_",
        "colab_type": "text"
      },
      "source": [
        "It is expected that this work would appeal to instructors in introductory physics education or students wishing to forage into the use of Python Notebook as a tool for exploring computational thinking in physics and mathematics.  Jupyter is a framework for data analysis and visualization that serves as a calculator, spreadsheet and word processor in a simple package.  It is an open source system which can be downloaded for free and run on your local computer or can be run from powerful cloud servers via an inexpensive laptop.\n",
        "\n",
        "Because a Jupyter system can be run with a wide variety of setups there are some slight variations on how the notebook (user experience) can appear with features that may or may not have been included at setup. Some configurations allow extra tools to be installed optionally while for others it is standard. Nonetheless the products, Jupyter Notebooks, are compatible with all systems.  Unlike some word processing files, the contents of the notebooks are not obscured by special codes that can’t be accessed by a text editor; some editors will even format a notebook directly.\n"
      ]
    },
    {
      "cell_type": "markdown",
      "metadata": {
        "id": "_KYJuDUN3a-N",
        "colab_type": "text"
      },
      "source": [
        "# Structure"
      ]
    },
    {
      "cell_type": "markdown",
      "metadata": {
        "id": "YrXwyuhe3d3J",
        "colab_type": "text"
      },
      "source": [
        "Every attempt is made in this work to keep the examples generic so that the notebooks can be run on a variety of installations. Nonetheless, to address all the subtle differences would distract from the purpose of learning how to use this tool which promises to be as significant to the scientific and engineering community as spreadsheets were to the financial world.  The bulk of the experience is broken into various interactive Notebooks developed within Google’s CoLab framework.  The key difference between CoLab’s cloud computing environment and one run locally or via a local area network is that there is ready access to web resources that might be harder to configure in a standalone installation.  Additionally CoLab is easily connected to Google Drive so reading and writing data files as well as the notebook storage itself can work smoothly with all the collaborative features of the Drive environment.  \n",
        "\n",
        "Nevertheless there are some downsides to the CoLab environment from the perspective of physics pedagogy.  Some animation tools which can provide a rich source of simulated behaviour (like vpython) are not available in cloud environments.  The kernel cannot easily be changed which would allow the user to switch the native programming language to an alternate like R, Ruby or Julia.  Because this work wants to try to be as open as possible, annotations will be included to identify where a CoLab specific feature is leveraged in the hopes that when run on a local installation the user can adapt to these small differences.\n"
      ]
    },
    {
      "cell_type": "markdown",
      "metadata": {
        "id": "X8lVuFU83i7s",
        "colab_type": "text"
      },
      "source": [
        "# Jupyter"
      ]
    },
    {
      "cell_type": "markdown",
      "metadata": {
        "id": "U-DGBiL53k9q",
        "colab_type": "text"
      },
      "source": [
        "Simply put (perhaps oversimply) jupyter is an environment that allows for calculation and documentation under one roof. In a single file (a jupyter notebook or notebook) you can explain an idea, describe it mathematically, perform simulations, graph the results, add additional calculations and discuss a conclusion while not having to leave a single document. Contrast this idea with what was mentioned above with all the steps needed to perform the same task with disparate tools. A jupyter notebook is a means that can be used not only to present lab work but also for exploring physics while students learn new topics. Increasingly, at conferences, presenters use a shared jupyter notebook in lieu of traditional presentation software to outline their ideas. For students in STEM education, incorporation of jupyter into their bag of tools is both a valuable skill as well as an excellent device for allowing the exploration of ideas.\n",
        "\n",
        "Jupyter is an open source project that began on or about 2014 continues in the long line of commercial products that serve a similar interest.  Jupyter grew out of a related project called IPython which intended to provide an interactive web based environment for data science and scientific computing.  The “notebook” is the front end of a suite of tools in the manner of Wolfram’s Mathematica™. The interface runs in a web browser which means it needs a ‘server’ running a ‘kernel’ to handle the requests from the notebook. The server can run locally or be installed on a machine somewhere else. The default kernel runs a python interpreter. The server can, however, run other programming languages.  The name, Jupyter, is an amalgamation of Julia, Python, and R (a language for statistical analysis.)\n",
        "\n",
        "Because the server part of the system can run on another machine while the notebook is running in a browser, the power of the calculator within the notebook is not limited by the client.  An inexpensive chromebook can be as powerful as a high end desktop.  The server updates the contents of the notebook so that when the document is saved the contents are preserved.  The result is that even if the server stops running there are tools that allow the user to continue to view the contents of the work without having to redo the calculations.  This is the essence of what we seek in a notebook.\n",
        "\n",
        "The server can even be run in ‘the cloud’ which simply means that the computing engine can be run on physical servers hosted on platforms run by Google, Amazon or Microsoft as well as others.  Having this structure add an additional layer of the ability to share documents among users and collaborators.  At the time of this writing Google’s CoLab has gained great popularity for largely this reason.\n"
      ]
    },
    {
      "cell_type": "markdown",
      "metadata": {
        "id": "VQ-R9SYv3tut",
        "colab_type": "text"
      },
      "source": [
        "# Structure of the Notebook Environment"
      ]
    },
    {
      "cell_type": "markdown",
      "metadata": {
        "id": "izCAxiCN3xLX",
        "colab_type": "text"
      },
      "source": [
        "Internally, Jupyter Notebook (JN) is broken into two types of interaction regions called ‘Cells’. The two types of regions are labeled according to their function called ‘Text’ and ‘Code’ cells.  Text cells, as the name implies, is the place to keep notes and explanations for calculations. Code cells are places where calculations can be performed and models run. Code cells can run programs and build graphs from models and data. As mentioned earlier the Notebook environment not only keeps the notes in the text cell but preserves the output of code cells as well. \n",
        "\n",
        "The text cells use a fairly easy to learn formatting language called Markdown. Just as with any word processor the document can be structured in a variety of ways. There are additional commands that allow the user to compose mathematical expressions and incorporate them into the notes. In keeping with the ‘hands-on’ approach philosophy of this workbook the best way to learn Markdown is to dive into the first document Unit0 and start playing with the instruction.\n"
      ]
    }
  ]
}