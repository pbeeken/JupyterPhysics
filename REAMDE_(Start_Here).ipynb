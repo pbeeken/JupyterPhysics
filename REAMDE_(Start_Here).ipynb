{
  "nbformat": 4,
  "nbformat_minor": 0,
  "metadata": {
    "colab": {
      "name": "REAMDE-(Start Here).ipynb",
      "provenance": [],
      "collapsed_sections": [
        "aRt_pjQP85hu",
        "4P3UF77Z27vB",
        "6c3UMO0tJhUd",
        "JV3KgMAXHEUv",
        "fyQBL7n2Gz15"
      ],
      "toc_visible": true,
      "include_colab_link": true
    },
    "kernelspec": {
      "name": "python3",
      "display_name": "Python 3"
    }
  },
  "cells": [
    {
      "cell_type": "markdown",
      "metadata": {
        "id": "view-in-github",
        "colab_type": "text"
      },
      "source": [
        "<a href=\"https://colab.research.google.com/github/pbeeken/JupyterPhysics/blob/master/REAMDE_(Start_Here).ipynb\" target=\"_parent\"><img src=\"https://colab.research.google.com/assets/colab-badge.svg\" alt=\"Open In Colab\"/></a>"
      ]
    },
    {
      "cell_type": "markdown",
      "metadata": {
        "id": "aRt_pjQP85hu"
      },
      "source": [
        "# Why Are We Here?"
      ]
    },
    {
      "cell_type": "markdown",
      "metadata": {
        "id": "JTheNtAk4MNP"
      },
      "source": [
        "\n",
        "Physics is about communication as much as it is about calculation.  Physics, like all sciences, is not just the byproduct of facts it generates (although they are very useful) but the process by which the facts are generated.  It isn't sufficient to simply derive some formula, you have to describe the steps that need to be taken, the assumptions and approximations that are used, and the data that justifies the result.  \n",
        "\n",
        "When you first started your math classes you brought along a calculator to perform arithmetic to verify that the relationships you were creating produced reliable results.  When you took classes in quantitative science you used this same tool to compare values from experiments or observations with models that are meant to predict outcomes.  Now you are entering a phase when you must start creating these models directly.  Historically this has meant using a variety of tools that produce a final product that is a liberal mix of mathemaitcial constructs, tables of numbers, graphs of relationships and prose to tell as story of about how a piece of how our universe works in some small measure.  There isn't really a 'perfect' single tool for doing this.\n",
        "\n",
        "Starting in the late 1980s as computers grew more ubiquious in the laboratory setting many thought it would be nice to be able to emulate the age old laboratory notebook electronically not just as a way of keeping track of investigations but incclude tools for keeping data, providing graphs, and even giving a preliminary shot at explaining what was going on.  Tools like [MatLab](https://en.wikipedia.org/wiki/MATLAB), [Mathemaitca](https://en.wikipedia.org/wiki/Wolfram_Mathematica), [MathCAD](https://en.wikipedia.org/wiki/Mathcad), and others came into existance that defined the general format of this idea.  New tools built on this pineering work and established a working standard that has defined the system we see now as VisiCalc set the way spreadsheets are seen today."
      ]
    },
    {
      "cell_type": "markdown",
      "metadata": {
        "id": "4P3UF77Z27vB"
      },
      "source": [
        "# Jupyter Overview <img src=\"https://jupyter.org/assets/main-logo.svg\" align=\"right\"/>"
      ]
    },
    {
      "cell_type": "markdown",
      "metadata": {
        "id": "kniQz4do9GxX"
      },
      "source": [
        "Jupyter is an interactive notebook where you can mix calculations, explanatory text and graphs in one document.  Originally developed for using python as an interactive tool for data science (the study and analysis of large data collections) it has grown to include a variety of different fields where spreadsheets don't quite capture the much needed combination of modelling, numerical analysis coupled with expository text needed to explain reasoning.\n",
        "\n",
        "Thus a *Jupyter* notebook is an interactive environment where you can describe what you are doing while, at the same time, show what your are doing."
      ]
    },
    {
      "cell_type": "markdown",
      "metadata": {
        "id": "6c3UMO0tJhUd"
      },
      "source": [
        "## Spreadsheets <!-- img src=\"https://www.gstatic.com/images/branding/product/1x/sheets_48dp.png\" align=\"right\"/-->\n",
        "_Just some historical context_"
      ]
    },
    {
      "cell_type": "markdown",
      "metadata": {
        "id": "SexqqDOkdGvg"
      },
      "source": [
        "<img src=\"https://upload.wikimedia.org/wikipedia/commons/thumb/7/7a/Visicalc.png/300px-Visicalc.png\" align=\"left\" height=\"150px\" hspace=\"20px\"/>\n",
        "\n",
        "Spreadsheets (*SS*) were a revolution in their day but are designed around and engineered for accounting.  Science coopted the technology because, much of the time, we catalog information in tables. The numerical capabilities of *SS* are ideal for performing systematic calculations on data by an element by element basis.  Data charting is also a standard feature of most spreadsheet environments and serves well to visualize large data sets.  The business application of spreadsheets, however, drives the design of these tools that require people in the engineering and science world to constantly adapt to this environment. As a consequence, using *SS* can become tedious.\n",
        "\n",
        "<img src=\"https://drive.google.com/uc?id=1L2MBuyqZ1l-kycsBj9APVUGYf8gOE0A1\" align=\"right\" width=\"300px\" hspace=\"20px\"/>A clear example of how the mechanics of *SS* can get in the way of mathematical modelling is built in to the nature of how calculations are performed on large data sets.  Spreadsheets organize data in cells.  To perform a calculation on a column of values requires that you set up the calculation for one cell and then copy the calculation down an entire adjacent column. Generally, this works well but if you desire to change the calculation (or model)  this sequence must be repeated each time.  For large datasets that extend below the view it is easy to make an error in the 'propogation' (copied down the column) and the imperfection can go unnoticed.  This was and still is a problem for financial modelers that serious consideration was given to the requirement that economic models submitted to banking regulators be done in a programming language which could be more easily evaluated and debugged.\n",
        "\n",
        "When it comes to graphing data, in an effort to make the manipulation of *SS* easy for all users, many of the operations requried to perform even routine tasks are done through menus and dialog boxes. If you don't keep careful track of which menu/dialog/option you chose and in what order, it is hard to reproduce what you did the next time you want to perform a similar set of operations. This problem becomes particularly acute with the graphing of data. Something we do all the time.\n",
        "\n",
        "<img src=\"https://drive.google.com/uc?id=1L08ryhqPmbIdm-veBT3a6sQpKa3wq81B\" align=\"left\" width=\"200px\" hspace=\"20px\"/>\n",
        "\n",
        "Almost all business graphing assumes that data is equally spaced (daily, monthly or quarterly) so the need for charting correlated data pairs is rarely needed.  In engineering and science however, data comes as correlated pairs so we rely on '*scatter plots*'.  The default charting method in spreadsheets  often has to be overriden using a variety of menu and dialog steps which are hard to recall (Google sheets used to be an exception but they, too, have gone to the dark side &#x1F60E; for compatability reasons).\n",
        "\n",
        "Finally, while *SS* are a fine tool, if you need to annotate or explain the nature of what you are doing or why, you must copy the relevant pieces to a word processing file (requiring a context switch) to document your activities.  Redoing a calculation or graph often requires navigating back and forth between a couple of related tools making revisions tedious.\n"
      ]
    },
    {
      "cell_type": "markdown",
      "metadata": {
        "id": "ujcsIOWyJwL7"
      },
      "source": [
        "## Jupyter (a different way)\n",
        "_An alternative_"
      ]
    },
    {
      "cell_type": "markdown",
      "metadata": {
        "id": "aCdxzp_-3E9k"
      },
      "source": [
        "<img src=\"https://jupyter.org/assets/main-logo.svg\" align=\"right\"/>*Jupyter*, as already mentioned, is a uniform environment where data, graphics and text can be freely mixed with a powerful calculation capability to both model and analyze data. Unlike spreadsheets, the user can create and/or store datasets in named lists and perform calculations on a large sets of values as easily as if they were performing a calculation on a single value.  The graphing environment is rich and powerful (something we all aspire to) yet very easy to use.  The neat thing about the *Jupyter* world is that the user need not know programming to use the basic capabilities.  Yes, there is no simple menu system but this is an advantage as you have a complete record of the steps needed to produce a result like a calculation or plot.  You could, at first, just '*cookbook*' your way to the results.  With time and practice you become familiar with the most common elements and they will become second nature.\n",
        "\n",
        "For *Jupyter*, a general knowledge of algebra is sufficient to accomplish many tasks.  Just as programming knowledge is not needed to use *SS* you don't have to be a programmer to use *Jupyter*. Mind you, if you want to move past the basics, learning some coding skills can make the job easier but with only a handful of tools you can go very far. The good news is mastering the basics of *jupyter* sets the user up fo learning the a programming language as the rules are absolutely consistent.  In *SS*, by contrast, local calculations bear no resemblance to the underlying scripting language (either visual basic or javascript) but in Jupyter the programming framework is the same throughout."
      ]
    },
    {
      "cell_type": "markdown",
      "metadata": {
        "id": "EOrJehr6Gj5f"
      },
      "source": [
        "## CoLab <img alt=\"Colaboratory logo\"  src=\"https://drive-thirdparty.googleusercontent.com/48/type/application/vnd.google.colaboratory\" align=\"right\" hspace=\"10px\" vspace=\"0px\">\n",
        "Google's spin on Jupyter Notebooks."
      ]
    },
    {
      "cell_type": "markdown",
      "metadata": {
        "id": "Xe075u9E_6AM"
      },
      "source": [
        "All *Jupyter* documents (notebooks) are compatible. It is possible to load and run a jupyter environment on your own personal device. The difference between the different implementaions are really a matter of features (none are essential so a document can be viewed and edited anywhere) and available default libraries.  Your are probably experiencing this document in a CoLab environment where the *jupyter notebook* is held in a cloud storage system where, like all Drive documents, the contents can be shared and linked.  There are some small limitations to this arrangement but for our purpose they aren't major and is some instances can be a big improvement."
      ]
    },
    {
      "cell_type": "markdown",
      "metadata": {
        "id": "1T5JDiw_7Wl4"
      },
      "source": [
        "# Jupyter as a tool <img src=\"https://jupyter.org/assets/main-logo.svg\" align=\"right\"/>"
      ]
    },
    {
      "cell_type": "markdown",
      "metadata": {
        "id": "5dIx6V2RrsUY"
      },
      "source": [
        "To get started you need only develop two skills:\n",
        "\n",
        " - a basic grasp of *markdown*: the tool for generating notes like these and\n",
        " - the rudiments of the **python** language which can be, after a little practice, little different than how we work with a modern calculator like the *TInspire&trade;*.\n",
        " "
      ]
    },
    {
      "cell_type": "markdown",
      "metadata": {
        "id": "m0X3zj09GtWA"
      },
      "source": [
        "##Cells\n",
        "A notebook is a collection of cells. Cells contain either explanatory **text** or executable **code** and its output. Click a cell to select it. Double click to edit it.  Cells are meant to be executed or viewed in order from top to bottom but this is not enforced.  It can be tricky if you change a value or definition somewhere near the botom and then re-run the calcuation near the top and get unexpected results.  "
      ]
    },
    {
      "cell_type": "markdown",
      "metadata": {
        "id": "JV3KgMAXHEUv"
      },
      "source": [
        "### **Text** cells"
      ]
    },
    {
      "cell_type": "markdown",
      "metadata": {
        "id": "BAGqfnwhHiPV"
      },
      "source": [
        "This is a **text cell**. You can **double-click** to edit this cell. Text cells\n",
        "use markdown syntax. \n",
        "\n",
        "You can also add math to text cells using [$\\LaTeX$](http://www.latex-project.org/)$^\\dagger$. Just place the latex statement within a pair of **\\$** signs:\n",
        "\n",
        "For example `$\\sqrt{3x-1}+(1+x)^2$` becomes\n",
        "$\\sqrt{3x-1}+(1+x)^2.$\n",
        "\n",
        "---\n",
        "$^\\dagger$<font size=-1>rendered by [MathJax](https://www.mathjax.org) which has some subtle features from the TeX math mode$"
      ]
    },
    {
      "cell_type": "markdown",
      "metadata": {
        "id": "kOqhN9BfH71X"
      },
      "source": [
        "**Markdown**\n",
        "\n",
        "A long time ago, In a galaxy far, far away there were no WYSIWYG (**w**hat **y**ou **s**ee **i**s **w**hat **y**ou **g**et) word processors. The world was filled with basic text editors and some specialized character combinations called *'mark up'* codes. These files that contained the text with embedded tags that would signal a rendering program to build a page with the desired appearance. The result would be then sent to a printer for final rendering. Eventually, word processors were created which provided this capability in one programming environment with a rich set of formatting tools.  While powerful the programs became rich with choices and options that meant navigating through deeply nested menus which take your attention away from writing while you went on an adventure to find just the right font or decoration for your needs. *'Markdown'* is a return to those bygone, simpler, days where the mission isn't to pick the perfect font but to quickly and concisely communicate without distracting you from the task at hand. Deliberately, *mark down* is intended to be short and sweet with only a handful of formatting commands. Dispite its simplicity, however, you'll be astonished by its power.\n",
        "\n",
        "> [Markdown Notebook](https://colab.research.google.com/drive/1QWlcJSnQsSTVvH50N_w_ko5RmCdZuLEQ#scrollTo=UaAyiC_BQm8a)  will walk you through some basic markdown tools that will be useful in our setting.  There are some special surprise features to the CoLab environment but this notebook will get you through he basics."
      ]
    },
    {
      "cell_type": "markdown",
      "metadata": {
        "id": "fyQBL7n2Gz15"
      },
      "source": [
        "### **Code** cells"
      ]
    },
    {
      "cell_type": "markdown",
      "metadata": {
        "id": "NmyMTORWHaXx"
      },
      "source": [
        "Below is a **code cell**. Once the toolbar button indicates CONNECTED, click in the cell to select it and execute the contents in the following ways:\n",
        "\n",
        "* Click the **Play icon** <img src=\"https://drive.google.com/uc?id=1MV9Moe3n7Fqe5OgwTAcBuZ66bOjZoYCm\"/> in the left gutter of the cell;\n",
        "* Type **Cmd/Ctrl+Enter** to run the cell in place;\n",
        "* Type **Shift+Enter** to run the cell and move focus to the next cell (adding one if none exists); or\n",
        "* Type **Alt+Enter** to run the cell and insert a new code cell immediately below it.\n",
        "\n",
        "There are additional options for running some or all cells in the **Runtime** menu but that can be learned later."
      ]
    },
    {
      "cell_type": "code",
      "metadata": {
        "id": "l7OKZFn9HBog",
        "colab": {
          "base_uri": "https://localhost:8080/",
          "height": 35
        },
        "outputId": "9fed7725-2a33-4b18-c5f5-413fa3cf731c"
      },
      "source": [
        "a = 10\n",
        "a*3.56"
      ],
      "execution_count": null,
      "outputs": [
        {
          "output_type": "execute_result",
          "data": {
            "text/plain": [
              "35.6"
            ]
          },
          "metadata": {
            "tags": []
          },
          "execution_count": 1
        }
      ]
    },
    {
      "cell_type": "markdown",
      "metadata": {
        "id": "FjY_ESRJIUmw"
      },
      "source": [
        "**Code**\n",
        "\n",
        "Don't let the term scare you. Code cells are simply places to do the calculations we need to estimate values based on physical models, process data, and plot values. Because we have to type instructions in, as we would on our calculator we maintain a record of what we have done. Once we have a set of steps to produce a result, changing the input is simply a matter of copying and pasing previous steps and changing the values.\n",
        "\n",
        "> [Code Cell Practical](https://colab.research.google.com/drive/1TImEHrfUkK7nv-Z_8kdRjO8IwoMzYa3-#scrollTo=Ef-fC9MjAJyz) gives you an operational overview of what we can do with code cells. It is not intended as a programming course and is easily a large part of all you need.  \n",
        "\n",
        "> [Coding Instructional](https://colab.research.google.com/drive/1FCohHCx3fDp9pfIYF1qKQ2hZZyx0x2z2#scrollTo=JtZkHORyTB61) is not intended as a full blown programming course. It goes beyond the practical guide for those who might want to have access to a bit more power.\n"
      ]
    },
    {
      "cell_type": "markdown",
      "metadata": {
        "id": "WXqXOVzFKZbL"
      },
      "source": [
        "### How does this work? _**Optional**_\n",
        "_under the hood description (you can ignore this for now but come back to this because it is useful to know)_"
      ]
    },
    {
      "cell_type": "markdown",
      "metadata": {
        "id": "ke0R4Bnw2kJB"
      },
      "source": [
        "In any endevor, knowing a little about how things work under the hood can save you a lot of trouble when you don't get exactly what you expect.  The way Google has implemented Jupyter is to launch a *virtual machine* that runs all the programming tasks in *the cloud*.  The *virtual machine* is started the moment you try to 'run' a code cell and remains active for as long as you are working with it. If you stop using it for a while, the machine shuts down and everything is wiped.  **Don't panic**.  Your notebook and anything you typed in it is preserved and saved automatically.  The window you are looking at right now is the 'editor' and that, like all web based apps, remains open and active until you close the tab it is running in.\n",
        "\n",
        "The [official word](https://research.google.com/colaboratory/faq.html#idle-timeouts) is that the virtual machine lives for: `It depends`. The practical limit seems to be about 90 minutes if you are actively working, 12 hours if you are running a long calculation (but not guaranteed). It does bother you after about 60min and like some streaming services, asks you if you want to continue. If you don't respond it 'hibernates' your VM.\n",
        "\n",
        "OK, for us, this seems like forever. We can work with this. Now to explain the first paragraph. Some definitions:\n",
        " - [Virtual Machine](https://en.wikipedia.org/wiki/Virtual_machine) is a model computer system that in every sense of the word is like your laptop/desktop. Because it is emulated on a very fast system it can be started and stopped and even re-installed in a moment.\n",
        " - [the cloud](https://en.wikipedia.org/wiki/Cloud_computing) in this instance is a set of resources (like data storage and computational tools) distributed on the internet. The idea is to abstract what we need so it can be delivered as a service.  The CoLab service is currently free but many other services can cost.\n",
        "\n",
        "#### What is bad about this?\n",
        "Since the resources are shared, the system will detect if you are not using it and shut down your 'instance' so those resources can be used by someone else.  This means if you have spent a lot of time configuring your environment then that effort can be lost.  The good news is that anything you have done has to be initiated within a code cell and you have a complete record of what you did.\n",
        "\n",
        "#### What is good about this?\n",
        "The notebook you are working in, this notebook for example, all live elsewhere. Everything you typed into it is preserved.  In our work we will not be spending oodles of time setting up an elaborate environment so if it shuts down because we got distracted watching that new viral YouTube cat video, no big deal.  Here is another plus: the virtual machine is a full fledged Linux OS (Generic Command Line, No Graphical User Interface) you can run any linux command you can dream of. Heck you can delete files and totally trash the virtual machine.  If you break it, just shut it down, re-launch and you have a brand new system. You can't do permanent damage.  Write some program or script that goes into an infinite loop? No problem. Shut it down and relaunch.  All fixed.\n",
        "\n",
        "Missing a favorite python libaray? No problem, install it. (We have to do this for a library that allows calculations with units called **Pint**)  Mess anything up? (Repeat after me) No Problem, stop the machine and restart it.  Problem fixed.\n",
        "\n",
        "There are even cooler tricks but this is enough for now.\n",
        "\n"
      ]
    }
  ]
}