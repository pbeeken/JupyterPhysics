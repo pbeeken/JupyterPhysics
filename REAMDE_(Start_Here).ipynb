{
  "nbformat": 4,
  "nbformat_minor": 0,
  "metadata": {
    "colab": {
      "name": "REAMDE-(Start Here).ipynb",
      "version": "0.3.2",
      "provenance": [],
      "collapsed_sections": [
        "kiEtY0Mh8mH6",
        "Ef-fC9MjAJyz",
        "R9RbbDysCeuJ",
        "Tfc9A31bybxZ",
        "tpNzCWY_oyAR",
        "hu_2yuTUnLWi",
        "17e8D0df_KRS"
      ],
      "toc_visible": true,
      "include_colab_link": true
    },
    "kernelspec": {
      "name": "python3",
      "display_name": "Python 3"
    }
  },
  "cells": [
    {
      "cell_type": "markdown",
      "metadata": {
        "id": "view-in-github",
        "colab_type": "text"
      },
      "source": [
        "<a href=\"https://colab.research.google.com/github/pbeeken/JupyterPhysics/blob/master/REAMDE_(Start_Here).ipynb\" target=\"_parent\"><img src=\"https://colab.research.google.com/assets/colab-badge.svg\" alt=\"Open In Colab\"/></a>"
      ]
    },
    {
      "cell_type": "markdown",
      "metadata": {
        "id": "SexqqDOkdGvg",
        "colab_type": "text"
      },
      "source": [
        "# Jupyter Overview\n",
        "<img src=\"https://jupyter.org/jupyter-book/images/logo/logo.png\" align=\"left\" width=\"50\"/>\n",
        "Jupyter is an interactive notebook where you can mix calculations, explanitory text and graphs in one document.  Originally developed for using python as an interactive tool for data science (the study and analysis of large data collections) it has grown to include a variety of different fields where spreadsheets don't quite capture the much needed combination of modelling and numerical analysis.\n",
        "\n",
        "## Spreadsheets \n",
        "<img src=\"https://upload.wikimedia.org/wikipedia/en/thumb/7/7d/Google_Sheets_Logo.jpg/52px-Google_Sheets_Logo.jpg\" align=\"left\" width=\"50\"/>\n",
        "Spreadsheets (*SS*) were a revolution in their day and are designed around and engineered for accounting.  Science has coopted the technology because, much of the time, we need to catalog information in tables and the numerical capabilities of *SS* are ideal for performing systematic calculations on the data on an element by element basis.  Later, graphing of data was added and is now a standard feature of most spreadsheet environments.  The business application of spreadsheets, however, drives the design of these tools that require people in the engineering and science world to constantly adapt what they need such that using *SS* can become tedious.\n",
        "\n",
        "<img src=\"https://drive.google.com/uc?id=1L2MBuyqZ1l-kycsBj9APVUGYf8gOE0A1\" align=\"right\" width=\"400\"/> A clear example of how the mechanics of *SS* can get in the way of mathematical modelling is built in to the nature of how calculations are performed on large data sets.  Spreadsheets organize data in cells.  To perform a calculation on a column of values requires that you set up the calculation for one cell and then copy the cacluation down an entire adjacent column. Everything is fine but if you desire to change the calculation (or model)  this sequence must be repeated.  For large datasets that extend below view it is possible that the calculations might not be 'propogated' (copied down the column) correctly and the imperfection can go unnoticed.  This was such a problem for bank models that the FTC now requires that stress models submitted by banks be done in a programming language (as of this writing the recommended language is python).  \n",
        "\n",
        "Another example is graphing of data.  Almost all business graphing assumes that data is equally spaced (daily, monthly or quarterly) so the need for charting correlated data pairs is rarely needed.  In engineering and science, in general, data almost always comes as correlated pairs so we rely on 'scatter plots' .  <img src=\"https://drive.google.com/uc?id=1L08ryhqPmbIdm-veBT3a6sQpKa3wq81B\" align=\"left\" width=\"200\"/> The default charting method in spreadsheets (Google sheets used to be an exception but they, too, have gone to the dark side &#x1F60E;).  \n",
        "\n",
        "Charting or grapjhing values are essential to visualizing numerical data sets. Especially as the sets get larger and models become more complex it is easier nay even vital that you visualize how the input (independent variable) influences the response of a system (dependent variable) graphically. \\[The graph at the left illustrates the default chart which sometimes guesses correctly whether you want a scatter or line plot, properly annotating the graph requires the user to go through a number of menu steps which can't be reproduced in a simple fashion]\n",
        "\n",
        "Finally, while *SS* are a fine tool, if you need to annotate or explain the nature of what you are doing or why you must copy the relevant pieces to a word processing file (requiring a context switch) to document your activities.  Redoing a calculation or graph often requires navigating back and forth between a couple of related tools making revisions tedious.\n",
        "\n",
        "## Jupyter\n",
        "<img src=\"https://jupyter.org/assets/main-logo.svg\" align=\"right\"/>*Jupyter*, as already mentioned, is a uniform environment where data, graphics and text can be freely mixed with a powerful calculation capability to both model and analyze data. Unlike spreadsheets the user can create or store datasets in named lists and perform calculations on a large list of values as easily as if they were performing a calculation on a single value.  The graphing environment is rich and powerful (something we all aspire to) yet very easy to use.  The neat thing about the *jupyter* world is that the user need not know python programming to use the basic capabilities.  A general knowledge of algebra is sufficient.  Much in the same way programming knowledge is not needed for spreadsheets but is definitely a big help once you move past the basics, the *jupyter* environment definitely benefits those the pick up programming skills.  \n",
        "\n",
        "The good news is mastering the basics of *jupyter* sets the user up fo learning the python language as the rules are absolutely consistent.  In spreadsheets the local calculations bear no resemblance to the underlying scripting language (either visual basic or javascript) but in Jupyter the programming framework is the same throughout."
      ]
    },
    {
      "cell_type": "markdown",
      "metadata": {
        "id": "1T5JDiw_7Wl4",
        "colab_type": "text"
      },
      "source": [
        "# Jupyter as a tool <img src=\"https://jupyter.org/assets/main-logo.svg\" align=\"right\"/>\n",
        "\n",
        "To get started you need only develop two skills:\n",
        "\n",
        " - a basic grasp of *markdown*: the tool for generating notes like these and\n",
        " - the rudiments of the **scipy** framework which can be, after a little setup, little different than how we work with a modern calculator like the TInspire&trade;.\n",
        " "
      ]
    },
    {
      "cell_type": "markdown",
      "metadata": {
        "id": "kiEtY0Mh8mH6",
        "colab_type": "text"
      },
      "source": [
        "## Markdown\n",
        "\n",
        "A long time ago, In a galaxy far, far away there were no WYSIWYG (what you see is what you get) word processors. The world was filled with basic text editors and some specialized character combinations called *'mark up'* codes. These files that contained the text with embedded combination of characters that would signal to a program that would look for these codes and build a page with the appearance we wanted. The result would be then sent to a printer for final rendering.  Along came word processors and nifty ways to format documents 100 which ways.  All of these efforts meant navigating through deeply nested menus which took your attention away from your writing while you went on an adventure to find just the right font or decoration for your needs.  *'Mark down'* is a return to those bygone days where the mission isn't to pick the perfect font but to quickly and concisely communicate without distracting you from the task at hand. Deliberately, *mark down* is intended to be short and sweet with only a handful of commands.  Dispite its simplicity, however, you'll be astonished by its power.\n"
      ]
    },
    {
      "cell_type": "markdown",
      "metadata": {
        "id": "XCO7txj3ADN8",
        "colab_type": "text"
      },
      "source": [
        "\n",
        "### Basic Markdown\n",
        "\n",
        " - [A link to the full documentation](https://jupyter-notebook.readthedocs.io/en/stable/examples/Notebook/Working%20With%20Markdown%20Cells.html \"Jupyter Markdown\") is provided here but this section should provide a solid operating list.\n",
        " - **Highlighting:**   *Italic* and **Bold** is achieved by simply putting either '*' or '_' around the text you want to emphasize\n",
        "   - \\*\\*Bold\\*\\* or \\_\\_Bold\\_\\_ renders to **Bold**\n",
        "   - \\*Italic\\* or \\_Italic\\_ renders to _Italic_\n",
        "   - or you can do both  \\_\\*\\*Bold Italic\\*\\*\\_ renders to _**Bold Italic**_ (or is it _**Italic Bold**_?)\n",
        " - __Headings:__ You can set off sections with various levels of headings\n",
        "    - \\# at the start of a line sets off a level 1 heading (Big, Bold)\n",
        "    - \\## st the start sets off a level 2 heading (slightly less bold)\n",
        "    - \\### a level 3 and so on, add up to 6 hashtags to get to level 6\n",
        "> # Heading 1\n",
        "> ## heading 2\n",
        "> ### heading 3\n",
        "> #### heading 4*, need I go on*?\n",
        " - __Lists:__ like this one can be built by simply starting a line with a dash or number\n",
        "   - Start a line with a ' -' (single space and a dash) to get an un ordered list.\n",
        "     - double space to get a sublist, \n",
        "       - tripple space to get a sublist of a sublist and so on.\n",
        "   - Start a line with a number and you begin an ordered list.\n",
        "     1. the first line with a number sets the start of the count.\n",
        "     0. every line that follows that starts with a number (doesn't matter what, even 0 works) continues the count.\n",
        "        1. If you indent as above then a sub ordered list is started.\n",
        "        0. this works quite well.\n",
        "    \n",
        " - __Tables__: This is the really cool thing. All you do is embed your table in a simple construct with vertical bars '|' and dashes.\n",
        "This construction:\n",
        "\n",
        "      ```\n",
        "      | t [s] | x[m] | v[m/s] |\n",
        "      |---|---|--|\n",
        "      | 0.0 | 1.0 | 1.0 |\n",
        "      | 1.0| 2.0 | 2.0|\n",
        "      | 3.0|4.0|3.0|\n",
        "      |4.0|7.0|4.0|\n",
        "\n",
        "      ```\n",
        "        yields\n",
        "\n",
        "| t \\[s] |x\\[m] | v\\[m/s] |\n",
        "|---|---|---|\n",
        "| 0.0 | 1.0 | 1.0 |\n",
        "| 1.0| 2.0 | 2.0|\n",
        "| 3.0|4.0|3.0|\n",
        "|4.0|7.0|4.0|\n",
        "\n",
        "> notice that you don't even have to organize the spacing. That is done automatically.\n",
        "\n",
        " - __Links:__ and illustrations can also be embedded in your document as well.\n",
        "   - the simplest is an embedded link:\n",
        "      - \\[I'm an inline-style link]\\(https://www.google.com) \n",
        "      - becomes: [I'm an inline-style link](https://www.google.com)\n",
        "   - an illustration is as simple with one small addition:\n",
        "       - \\!\\[alt text](https://drive.google.com/open?id=12cdCxzYQQ3cGW0unvXCENr79xDv52egn \"Yo da Man\")\n",
        "       - becomes: ![alt text](https://drive.google.com/uc?id=12cdCxzYQQ3cGW0unvXCENr79xDv52egn \"Yo da Man\")\n",
        " - __Horizontal Rules:__ are created by simply typing three hyphens \"-\", stars \"*\", or underlines \"_\" on line by itself.\n",
        "___\n",
        "  - __HTML:__ If you want to get really fancy you can embed some html (not all marks are allowed) but it isn't generally needed.\n",
        "  - __Formulas:__  This is really cool.  In many sciecnes, engineering and mathematics we communicate through the language of math.  There is a very concise way to present mathematical formulas using a universally recognized markup code called $\\LaTeX$\n",
        "    - inline formulas that appear right along with the special codes embedded between a pair of '\\$'s\n",
        "      - An embedded rendition of the pythagorean formula $h^2=x^2+y^2$\n",
        "      - was generated from \"`..agorean formula \\$h^2=x^2+y^2\\$`\"\n",
        "    - more complicated formulas or ones that you want to emphasize can be set off on their own line by embedding the $LaTeX$ betwen a pair of double dollar signs ('\\$\\$').\n",
        "    - thus `$$x_{\\pm} = \\frac{-b \\pm \\sqrt{b^2-4 a c}}{2 a}$$`\n",
        "> The roots of a quadratic equation are given as $$x_{\\pm} = \\frac{-b \\pm \\sqrt{b^2-4 a c}}{2 a}$$\n",
        "    - $\\LaTeX$ code itself contains a vast number of possabilities but is very simple at its core. For the most part you type the formula as you might into a calculator.\n",
        "      - \\$y = m x + b\\$ : $y = m x + b$\n",
        "      - \\$x(t) = x_0 + v_0 t + \\frac{1}{2} a t^2\\$ : $x(t) = x_0 + v_0 t + \\frac{1}{2} a t^2$\n",
        "        - subscripts are rendered after an underbar '_' and superscripts are rendered after a caret '^'\n",
        "        - notice the special construct for fractions: \\frac{numerator}{denominator}.\n",
        "        - In general, curly braces are used as grouping agents\n",
        "      - There are a rich set of special characters like greek letters and special symbols:\n",
        "        - \\alpha, \\beta, \\gamma, or \\Delta vs \\delta $\\alpha, \\beta, \\gamma \\text{, or } \\Delta \\text{ vs } \\delta$\n",
        "        - You can even format vectors $\\vec{x}$ and $\\vec{F}$ so you can refer to these items properly.\n",
        "        - Here's a neat trick for fractions: `$^3\\!/\\!_7$` becomes $^3\\!/\\!_7$\n",
        "        - How about drawing a box around an answer: $\\boxed{3.43 J}$\n",
        "   - there are many constructs to create formulas, you can [search for](https://www.google.com/search?q=latex+formula+cheat+sheet&oq=latex+formula&aqs=chrome.2.69i57j0l5.8175j0j4&sourceid=chrome&ie=UTF-8) many different takes on this. There is a [definitive reference](https://en.wikibooks.org/wiki/LaTeX/Mathematics) for online $\\LaTeX$.There are also [online tools](http://atomurl.net/math/) for creating formulas from pick and place graphical environments. After a short while you wont need these as you'll be able to compose formulas as you are typing.\n"
      ]
    },
    {
      "cell_type": "markdown",
      "metadata": {
        "id": "Ef-fC9MjAJyz",
        "colab_type": "text"
      },
      "source": [
        "## Code?\n",
        "The amount of code you need to do useful things in Jupyter is astonishingly small.  Anyone can certainly build on these basic tools but it isn't required for  lot of what we do.  If you can use a modern scientific calculator there is nothing much different here.  If you think about how we use spreadsheets in science this tool may be even less difficult because all the steps are laid out for reuse and easy modification.\n",
        "\n",
        "We start the data processing component by simply executing the following lines somewhere near the top of our notebook.\n",
        "```python\n",
        "%matplotlib inline\n",
        "import numpy as np\n",
        "import matplotlib.pyplot as plt\n",
        "import scipy as sp\n",
        "```\n",
        "The first line tells the notebook to render the plot directly into our notebook. The next one brings in the numpy package which allows us to deal with scalars (single values) as easily as it is to deal with vectors (lists of numbers).  `matplotlib` is our graphing package which we will use to make graphs.  The final line `scipy` is optional but makes physical constants available to us.\n",
        "\n",
        " > *Note that while jupyter evolved from ipython and python itself the underlying code package can be changed.  If you a **Ruby** fan or **R** aficionado then you can use this same framework with those languages (just not in google's colab, yet)*\n",
        " \n",
        " You only need to put these lines close to the top of yur document so you remember to 'run' them once.  "
      ]
    },
    {
      "cell_type": "code",
      "metadata": {
        "id": "sxWKoKcbZXOM",
        "colab_type": "code",
        "colab": {}
      },
      "source": [
        "%matplotlib inline\n",
        "\n",
        "import numpy as np\n",
        "import math as m\n",
        "import matplotlib.pyplot as plt"
      ],
      "execution_count": 0,
      "outputs": []
    },
    {
      "cell_type": "markdown",
      "metadata": {
        "id": "R9RbbDysCeuJ",
        "colab_type": "text"
      },
      "source": [
        "### Basic calculations\n",
        "*Python as a calulator*: Just as you would in a calculator you can type expressions to give the results of a simple calculator. Note that python doesn't understand implicit multiplication and while all the same PEMDAS rules do hold, don't depend on it; use * to indicate multiplication and use parentheses to make your intention clear.  \n",
        "\n",
        "One little quirk with python is that exponentiation is done with `**` rathern than with `^`.   $4^2$ is expressed as `4**2` in python"
      ]
    },
    {
      "cell_type": "code",
      "metadata": {
        "id": "she-e-ThZ4BY",
        "colab_type": "code",
        "outputId": "fe60c3c4-6e23-44fa-ad14-f0d9a908e5ab",
        "colab": {
          "base_uri": "https://localhost:8080/",
          "height": 35
        }
      },
      "source": [
        "2.3*4.5"
      ],
      "execution_count": 0,
      "outputs": [
        {
          "output_type": "execute_result",
          "data": {
            "text/plain": [
              "10.35"
            ]
          },
          "metadata": {
            "tags": []
          },
          "execution_count": 2
        }
      ]
    },
    {
      "cell_type": "code",
      "metadata": {
        "id": "Bohxn92SD-8o",
        "colab_type": "code",
        "outputId": "b352c9d0-db2b-4453-c911-c2452af6c765",
        "colab": {
          "base_uri": "https://localhost:8080/",
          "height": 35
        }
      },
      "source": [
        "3.45*1.5E-4 # ieee notation is used for scientific notation."
      ],
      "execution_count": 0,
      "outputs": [
        {
          "output_type": "execute_result",
          "data": {
            "text/plain": [
              "0.0005175"
            ]
          },
          "metadata": {
            "tags": []
          },
          "execution_count": 3
        }
      ]
    },
    {
      "cell_type": "code",
      "metadata": {
        "id": "CFGC1bbdEC5D",
        "colab_type": "code",
        "outputId": "3a196138-1f3a-4734-f005-a420e41695f0",
        "colab": {
          "base_uri": "https://localhost:8080/",
          "height": 35
        }
      },
      "source": [
        "(2.34+4)/3.0**2  # Order of operations means the above division only acts on the 3 before the addition but () override"
      ],
      "execution_count": 0,
      "outputs": [
        {
          "output_type": "execute_result",
          "data": {
            "text/plain": [
              "0.7044444444444444"
            ]
          },
          "metadata": {
            "tags": []
          },
          "execution_count": 4
        }
      ]
    },
    {
      "cell_type": "markdown",
      "metadata": {
        "id": "ZBPKJ59VEHQL",
        "colab_type": "text"
      },
      "source": [
        "So what?, you say, my calculator can do this. Yes and your calculator can assign values to variables as well:"
      ]
    },
    {
      "cell_type": "code",
      "metadata": {
        "id": "mL8DXmaxEHsC",
        "colab_type": "code",
        "outputId": "421f11a0-1f77-41bf-a537-4e10d7bd9b89",
        "colab": {
          "base_uri": "https://localhost:8080/",
          "height": 35
        }
      },
      "source": [
        "# moreover we can plot this relationship easily\n",
        "gfs = 9.81 # common physics constant in m/s^2\n",
        "mass = 3.4E2 # kg \n",
        "weight = gfs*mass  # Newton\n",
        "weight"
      ],
      "execution_count": 0,
      "outputs": [
        {
          "output_type": "execute_result",
          "data": {
            "text/plain": [
              "3335.4"
            ]
          },
          "metadata": {
            "tags": []
          },
          "execution_count": 5
        }
      ]
    },
    {
      "cell_type": "markdown",
      "metadata": {
        "id": "xKcvuV6UGuG2",
        "colab_type": "text"
      },
      "source": [
        "That was easy. But the real power is doing calculations transparently when the value is a single value or a set of values."
      ]
    },
    {
      "cell_type": "code",
      "metadata": {
        "id": "ITFSFke1ETi4",
        "colab_type": "code",
        "outputId": "0346137c-336d-41bb-b72f-78314a48aea0",
        "colab": {
          "base_uri": "https://localhost:8080/",
          "height": 35
        }
      },
      "source": [
        "t = 1.2 # s  A single time value\n",
        "v0 = 1.4 # m/s\n",
        "a = -1.1 # m/s^2\n",
        "x = v0*t + 1/2*a*t**2\n",
        "x"
      ],
      "execution_count": 0,
      "outputs": [
        {
          "output_type": "execute_result",
          "data": {
            "text/plain": [
              "0.8879999999999999"
            ]
          },
          "metadata": {
            "tags": []
          },
          "execution_count": 6
        }
      ]
    },
    {
      "cell_type": "code",
      "metadata": {
        "id": "kg02CwfPHhCT",
        "colab_type": "code",
        "outputId": "0f74e597-02a7-4780-a67e-d73ea038628d",
        "colab": {
          "base_uri": "https://localhost:8080/",
          "height": 35
        }
      },
      "source": [
        "t = np.array([0.0, 0.2, 0.4, 0.6, 0.8, 1.0, 1.2]) # s  A set of time values\n",
        "# nothing else chagnes\n",
        "v0 = 1.4 # m/s\n",
        "a = -1.1 # m/s^2\n",
        "x = v0*t + 1/2*a*t**2\n",
        "x"
      ],
      "execution_count": 0,
      "outputs": [
        {
          "output_type": "execute_result",
          "data": {
            "text/plain": [
              "array([0.   , 0.258, 0.472, 0.642, 0.768, 0.85 , 0.888])"
            ]
          },
          "metadata": {
            "tags": []
          },
          "execution_count": 7
        }
      ]
    },
    {
      "cell_type": "code",
      "metadata": {
        "id": "6QnXrTP-Hwtz",
        "colab_type": "code",
        "outputId": "a73b2516-8e56-403b-9aa7-4395a8434526",
        "colab": {
          "base_uri": "https://localhost:8080/",
          "height": 284
        }
      },
      "source": [
        "# moreover we can plot this relationship easily\n",
        "plt.scatter(t, x)\n",
        "plt.xlabel(\"time [s]\")\n",
        "plt.ylabel(\"pos [m]\")\n",
        "plt.grid(True)\n"
      ],
      "execution_count": 0,
      "outputs": [
        {
          "output_type": "display_data",
          "data": {
            "image/png": "[encoded data removed]",
            "text/plain": [
              "<Figure size 432x288 with 1 Axes>"
            ]
          },
          "metadata": {
            "tags": []
          }
        }
      ]
    },
    {
      "cell_type": "markdown",
      "metadata": {
        "id": "Tfc9A31bybxZ",
        "colab_type": "text"
      },
      "source": [
        "### More ways to build arrays"
      ]
    },
    {
      "cell_type": "code",
      "metadata": {
        "id": "H5hGsoEwH5m7",
        "colab_type": "code",
        "outputId": "17ce98ea-9d27-4923-d6d8-7d8e9c79db34",
        "colab": {
          "base_uri": "https://localhost:8080/",
          "height": 284
        }
      },
      "source": [
        "t = np.linspace(0.0,1.2,20) # s  A set of 20 time values between 0.0 and 1.2\n",
        "# nothing else chagnes\n",
        "v0 = 1.4 # m/s\n",
        "a = -1.1 # m/s^2\n",
        "x = v0*t + 1/2*a*t**2\n",
        "\n",
        "# moreover we can plot this relationship easily\n",
        "plt.scatter(t, x)\n",
        "plt.xlabel(\"time [s]\")\n",
        "plt.ylabel(\"pos [m]\")\n",
        "plt.grid(True)\n"
      ],
      "execution_count": 0,
      "outputs": [
        {
          "output_type": "display_data",
          "data": {
            "image/png": "[encoded data removed]",
            "text/plain": [
              "<Figure size 432x288 with 1 Axes>"
            ]
          },
          "metadata": {
            "tags": []
          }
        }
      ]
    },
    {
      "cell_type": "markdown",
      "metadata": {
        "id": "ytm0qSCc2FP5",
        "colab_type": "text"
      },
      "source": [
        "### What we have so far...\n",
        "\n",
        "With the three above examples we see that the process of dealing with a calculation is exactly the same from a single value to a list of 5 manualy entered value to 20 (could have been 200) automatically generated values.\n",
        "\n",
        "Plotting is almost trivial.  When we are done we will see a summary of commands that are needed to do simple calculations.  Sometimes our data is pulled in from electronic measurements in the form of comma separated values (*CSV*) in files.  This is, admittedly a bit tricky as we save the data in Google Drive. \n",
        "  "
      ]
    },
    {
      "cell_type": "markdown",
      "metadata": {
        "id": "W4d8up15OXos",
        "colab_type": "text"
      },
      "source": [
        "## Reading from files\n",
        "Sometimes the data lists get beyond our ability to simply type them in. This is especially true if the data is generated from a data tool like Vernier, PASCO, OSP Tracker, or SysComp oscilloscopes.  There are many ways to pull data from these files but they all have some common elements.  We start with the simplest methods for getting the data that has been uploaded to Google Drive where we keep all of our generated values.\n",
        "\n",
        "**What files do we handle?**\n",
        " - All files are assumed to be *CSV* (comma separated value) files. csv files when opened in a text editor are nothing but lists of numbers separated by commas. \n",
        " - They may or may not have the first or first few lines which may have titles for each column.\n",
        " - A sample of the structure might be something like:\n",
        " ```\n",
        "\"Time [s]\",\"Channel A [V]\",\"Channel B [V]\"\n",
        "0,0.007443,0\n",
        "0.000390625,0.007443,-0.025\n",
        "0.00078125,0.007443,0\n",
        "0.001171875,0.007443,-0.025\n",
        "0.0015625,0.004962,0\n",
        "0.001953125,0.004962,0.025\n",
        "...\n",
        " ```\n",
        "\n",
        "**We need to get the data onto your virtual machine** \n",
        "\n",
        "**There are many ways to pull data from files**\n",
        "but after much experimentation I have decided to present the easiest method based on how we deal with data files. \n",
        "\n",
        "You can directly upload your files to your 'virtual machine' so that it looks from your notebook's perspective as if they are right at the top level of your workspace.\n",
        " 1. Direct upload from a Chromebook:\n",
        "   - If it is not already open click on the left pointing arrow in the upper left corner of your screen.\n",
        "   - Click on the *Files* heading across the top to reveal your file structure. You should see, at least, a folder with an arrow on it (pointing upwards) and one saying _sample\\_data_.\n",
        "   - Just click on \"UPLOAD\" and navigate to the file you want to upload and the file is now copied to your virtual machine.\n",
        "   - You will get a message that the files will be deleted when you shut down your notebook. This is fine since you will still have the files in your Drive folder.\n",
        " 1. Direct upload from any laptop:\n",
        "   - This involves just one more step.\n",
        "   - Use your browser to navigate to the data file and download it to your local drive.\n",
        "   - You can now follow the directions for a chromebook \n",
        "   - When you UPLOAD, navigate to the same location where you saved the file.\n",
        "   - if you want to transfer many files to you virtualk\n",
        "\n",
        "**Do yourself a favor.**\n",
        "All of these techniques work best if you keep your files organized.  Get into the habit of naming your files in ways that allow them to be recognized easily.  Cluster files from related experiments in single folders.  This makes it easier to get the needed information to access the information.\n"
      ]
    },
    {
      "cell_type": "markdown",
      "metadata": {
        "id": "tpNzCWY_oyAR",
        "colab_type": "text"
      },
      "source": [
        "### Pull data through the web\n",
        "\n",
        "You can get access to any single .csv file in your google directory without having to do anything. BUT...\n",
        " - get the **fileID** of the .csv file by getting it's '*sharable link*'\n",
        " - while this dialog is open set the permissions to: '*Anyone with the link can accces*' not just *Byram Hills*\n",
        " - Buried in this URL like link is a series of characters following `?id=` which represents the **fileID**\n",
        " - Use the following code to import the data. \n",
        "\n",
        "This will work until you try to change the **fileID** of the file.  In order to load a different file you need to delete the original file by using the following command.\n",
        "\n",
        "```python\n",
        "!rm -r drive.google.com/  # we have to delete the old dir to get new data.\n",
        "```\n",
        "\n"
      ]
    },
    {
      "cell_type": "code",
      "metadata": {
        "id": "wiKANrzq60-T",
        "colab_type": "code",
        "outputId": "0f08a05a-918a-4c60-e37a-965f8b3ce4fe",
        "colab": {
          "base_uri": "https://localhost:8080/",
          "height": 284
        }
      },
      "source": [
        "#@title Code Example { display-mode: \"code\" }\n",
        "\n",
        "# If you just want to read from one file then you can simply pull data as you would with\n",
        "# with an image file. With this method you don't have to go through the special security \n",
        "# steps.\n",
        "#  - First go to the .csv file on your drive and set the permissions to \n",
        "#              'Anyone with the link can accces' not just Byram Hills\n",
        "#  - Copy the url from the sharable link\n",
        "#  - Paste it here and delete everything up to the gobblety-gook characters after the '?id='\n",
        "#  - This is known as the fileID.  It is unique to the file.\n",
        "# e.g. https://drive.google.com/open?id=16bJrRJbwZjqfNMIpblgU0XYS6dZKu7Ca\n",
        "#      becomes: 16bJrRJbwZjqfNMIpblgU0XYS6dZKu7Ca\n",
        "\n",
        "# File available is: MagDrop3.csv\n",
        "fileID=\"122e8VYGOXm7qRsZKUtebZtTTfAl8tHlZ\"\n",
        "\n",
        "# this reformats the reference so it looks like an ordinary file\n",
        "fileRef = \"https://drive.google.com/uc?id=\" + fileID\n",
        "\n",
        "# We know the first row is a list of titles so we extract that separately\n",
        "titles = np.loadtxt( fileRef, max_rows=1, delimiter=\",\", dtype=np.str )\n",
        "\n",
        "# The numpy call looks like the straight file read now.\n",
        "data = np.loadtxt( fileRef, skiprows=1, delimiter=\",\" )\n",
        "\n",
        "# show the column names and data type\n",
        "# moreover we can plot this relationship easily\n",
        "plt.scatter(data.transpose()[0], data.transpose()[1])\n",
        "plt.xlabel(titles[0])\n",
        "plt.ylabel(titles[1])\n",
        "plt.grid(True)\n"
      ],
      "execution_count": 0,
      "outputs": [
        {
          "output_type": "display_data",
          "data": {
            "image/png": "[encoded data removed]",
            "text/plain": [
              "<Figure size 432x288 with 1 Axes>"
            ]
          },
          "metadata": {
            "tags": []
          }
        }
      ]
    },
    {
      "cell_type": "code",
      "metadata": {
        "id": "7OvcgtRhNOWD",
        "colab_type": "code",
        "colab": {}
      },
      "source": [
        "!rm -r drive.google.com/  # unfortunately we have to delete the dir copy to pull in a different one."
      ],
      "execution_count": 0,
      "outputs": []
    },
    {
      "cell_type": "markdown",
      "metadata": {
        "id": "hu_2yuTUnLWi",
        "colab_type": "text"
      },
      "source": [
        "### Connecting to Google\n",
        "You can connect to google drive directly through a small number of fixed steps. The code that follows can be summarized as \n",
        " 1. installing the basic package to link to the drive\n",
        " 0. Initiating the permissions\n",
        " 0. Responding to a dialog that confirms which account you want to connect to and retreive the special password code that links the two systems.\n",
        " \n",
        "This method is more reliable than the one-off method described above and allows for bi-directional reading and writing of data. The other advantage is that because you now have 'permission' to access your entire drive, you don't need to set permissions on individual files.\n",
        "\n",
        "Like the the pulling from **FileID** method above files are identified by their **FileID** which is not immediately visible. You still need to go into the permissions link to get this ID so you can pull the data using the read function. For this reason it is a good idea to collect all your data files into one easily located folder which will allow you to get the file based on its name.\n",
        "\n",
        "Suggestions to make life easier:\n",
        "  - Create a folder in your Colab Notebook folder which was created automatically when you started using this tool\n",
        "  - Name it something easy like 'data' or something (see the function below to see where you can change this name if you insist)\n",
        "  - You can use the defined funcitons listed below to get a list of the files, the fileIDs and how to reference the files.\n",
        "\n",
        "You don't have to do this to make any of this work it is just makes things simpler if you do.\n",
        "\n"
      ]
    },
    {
      "cell_type": "code",
      "metadata": {
        "id": "ZtdCfY54WBpK",
        "colab_type": "code",
        "outputId": "4acc97f1-5fa6-48bf-c94c-3fed3179f5ac",
        "colab": {
          "base_uri": "https://localhost:8080/",
          "height": 54
        }
      },
      "source": [
        "#@title Code Example { display-mode: \"code\" }\n",
        "\n",
        "# We need to run the following code which gives us permission to \n",
        "# access you drive. Some day the number of steps will shrink but\n",
        "# for now just run this cell as is.\n",
        "\n",
        "# Install the PyDrive wrapper & import libraries.\n",
        "# This only needs to be done once per notebook.\n",
        "!pip install -U -q PyDrive    # Installs the PyDrive package\n",
        "from pydrive.auth import GoogleAuth\n",
        "from pydrive.drive import GoogleDrive\n",
        "from google.colab import auth\n",
        "from oauth2client.client import GoogleCredentials\n",
        "\n",
        "# Authenticate and create the PyDrive client.\n",
        "# This only needs to be done once per notebook.\n",
        "auth.authenticate_user()\n",
        "gauth = GoogleAuth()\n",
        "gauth.credentials = GoogleCredentials.get_application_default()\n",
        "drive = GoogleDrive(gauth)\n",
        "# you will be given a link you need to click to give permission, \n",
        "# and eventually a code which you will copy and paste into the waiting\n",
        "# entry box below. Again, you only have to do this once per session."
      ],
      "execution_count": 0,
      "outputs": [
        {
          "output_type": "stream",
          "text": [
            "\u001b[?25l\r\u001b[K     |▎                               | 10kB 16.8MB/s eta 0:00:01\r\u001b[K     |▋                               | 20kB 1.8MB/s eta 0:00:01\r\u001b[K     |█                               | 30kB 2.6MB/s eta 0:00:01\r\u001b[K     |█▎                              | 40kB 1.7MB/s eta 0:00:01\r\u001b[K     |█▋                              | 51kB 2.1MB/s eta 0:00:01\r\u001b[K     |██                              | 61kB 2.5MB/s eta 0:00:01\r\u001b[K     |██▎                             | 71kB 2.9MB/s eta 0:00:01\r\u001b[K     |██▋                             | 81kB 3.3MB/s eta 0:00:01\r\u001b[K     |███                             | 92kB 3.7MB/s eta 0:00:01\r\u001b[K     |███▎                            | 102kB 2.8MB/s eta 0:00:01\r\u001b[K     |███▋                            | 112kB 2.8MB/s eta 0:00:01\r\u001b[K     |████                            | 122kB 2.8MB/s eta 0:00:01\r\u001b[K     |████▎                           | 133kB 2.8MB/s eta 0:00:01\r\u001b[K     |████▋                           | 143kB 2.8MB/s eta 0:00:01\r\u001b[K     |█████                           | 153kB 2.8MB/s eta 0:00:01\r\u001b[K     |█████▎                          | 163kB 2.8MB/s eta 0:00:01\r\u001b[K     |█████▋                          | 174kB 2.8MB/s eta 0:00:01\r\u001b[K     |██████                          | 184kB 2.8MB/s eta 0:00:01\r\u001b[K     |██████▎                         | 194kB 2.8MB/s eta 0:00:01\r\u001b[K     |██████▋                         | 204kB 2.8MB/s eta 0:00:01\r\u001b[K     |███████                         | 215kB 2.8MB/s eta 0:00:01\r\u001b[K     |███████▎                        | 225kB 2.8MB/s eta 0:00:01\r\u001b[K     |███████▋                        | 235kB 2.8MB/s eta 0:00:01\r\u001b[K     |████████                        | 245kB 2.8MB/s eta 0:00:01\r\u001b[K     |████████▎                       | 256kB 2.8MB/s eta 0:00:01\r\u001b[K     |████████▋                       | 266kB 2.8MB/s eta 0:00:01\r\u001b[K     |█████████                       | 276kB 2.8MB/s eta 0:00:01\r\u001b[K     |█████████▎                      | 286kB 2.8MB/s eta 0:00:01\r\u001b[K     |█████████▋                      | 296kB 2.8MB/s eta 0:00:01\r\u001b[K     |██████████                      | 307kB 2.8MB/s eta 0:00:01\r\u001b[K     |██████████▎                     | 317kB 2.8MB/s eta 0:00:01\r\u001b[K     |██████████▋                     | 327kB 2.8MB/s eta 0:00:01\r\u001b[K     |███████████                     | 337kB 2.8MB/s eta 0:00:01\r\u001b[K     |███████████▎                    | 348kB 2.8MB/s eta 0:00:01\r\u001b[K     |███████████▋                    | 358kB 2.8MB/s eta 0:00:01\r\u001b[K     |████████████                    | 368kB 2.8MB/s eta 0:00:01\r\u001b[K     |████████████▎                   | 378kB 2.8MB/s eta 0:00:01\r\u001b[K     |████████████▋                   | 389kB 2.8MB/s eta 0:00:01\r\u001b[K     |█████████████                   | 399kB 2.8MB/s eta 0:00:01\r\u001b[K     |█████████████▎                  | 409kB 2.8MB/s eta 0:00:01\r\u001b[K     |█████████████▋                  | 419kB 2.8MB/s eta 0:00:01\r\u001b[K     |██████████████                  | 430kB 2.8MB/s eta 0:00:01\r\u001b[K     |██████████████▎                 | 440kB 2.8MB/s eta 0:00:01\r\u001b[K     |██████████████▋                 | 450kB 2.8MB/s eta 0:00:01\r\u001b[K     |███████████████                 | 460kB 2.8MB/s eta 0:00:01\r\u001b[K     |███████████████▎                | 471kB 2.8MB/s eta 0:00:01\r\u001b[K     |███████████████▋                | 481kB 2.8MB/s eta 0:00:01\r\u001b[K     |████████████████                | 491kB 2.8MB/s eta 0:00:01\r\u001b[K     |████████████████▎               | 501kB 2.8MB/s eta 0:00:01\r\u001b[K     |████████████████▋               | 512kB 2.8MB/s eta 0:00:01\r\u001b[K     |█████████████████               | 522kB 2.8MB/s eta 0:00:01\r\u001b[K     |█████████████████▎              | 532kB 2.8MB/s eta 0:00:01\r\u001b[K     |█████████████████▋              | 542kB 2.8MB/s eta 0:00:01\r\u001b[K     |██████████████████              | 552kB 2.8MB/s eta 0:00:01\r\u001b[K     |██████████████████▎             | 563kB 2.8MB/s eta 0:00:01\r\u001b[K     |██████████████████▋             | 573kB 2.8MB/s eta 0:00:01\r\u001b[K     |███████████████████             | 583kB 2.8MB/s eta 0:00:01\r\u001b[K     |███████████████████▎            | 593kB 2.8MB/s eta 0:00:01\r\u001b[K     |███████████████████▋            | 604kB 2.8MB/s eta 0:00:01\r\u001b[K     |████████████████████            | 614kB 2.8MB/s eta 0:00:01\r\u001b[K     |████████████████████▎           | 624kB 2.8MB/s eta 0:00:01\r\u001b[K     |████████████████████▋           | 634kB 2.8MB/s eta 0:00:01\r\u001b[K     |█████████████████████           | 645kB 2.8MB/s eta 0:00:01\r\u001b[K     |█████████████████████▎          | 655kB 2.8MB/s eta 0:00:01\r\u001b[K     |█████████████████████▋          | 665kB 2.8MB/s eta 0:00:01\r\u001b[K     |██████████████████████          | 675kB 2.8MB/s eta 0:00:01\r\u001b[K     |██████████████████████▎         | 686kB 2.8MB/s eta 0:00:01\r\u001b[K     |██████████████████████▋         | 696kB 2.8MB/s eta 0:00:01\r\u001b[K     |███████████████████████         | 706kB 2.8MB/s eta 0:00:01\r\u001b[K     |███████████████████████▎        | 716kB 2.8MB/s eta 0:00:01\r\u001b[K     |███████████████████████▋        | 727kB 2.8MB/s eta 0:00:01\r\u001b[K     |████████████████████████        | 737kB 2.8MB/s eta 0:00:01\r\u001b[K     |████████████████████████▎       | 747kB 2.8MB/s eta 0:00:01\r\u001b[K     |████████████████████████▋       | 757kB 2.8MB/s eta 0:00:01\r\u001b[K     |████████████████████████▉       | 768kB 2.8MB/s eta 0:00:01\r\u001b[K     |█████████████████████████▏      | 778kB 2.8MB/s eta 0:00:01\r\u001b[K     |█████████████████████████▌      | 788kB 2.8MB/s eta 0:00:01\r\u001b[K     |█████████████████████████▉      | 798kB 2.8MB/s eta 0:00:01\r\u001b[K     |██████████████████████████▏     | 808kB 2.8MB/s eta 0:00:01\r\u001b[K     |██████████████████████████▌     | 819kB 2.8MB/s eta 0:00:01\r\u001b[K     |██████████████████████████▉     | 829kB 2.8MB/s eta 0:00:01\r\u001b[K     |███████████████████████████▏    | 839kB 2.8MB/s eta 0:00:01\r\u001b[K     |███████████████████████████▌    | 849kB 2.8MB/s eta 0:00:01\r\u001b[K     |███████████████████████████▉    | 860kB 2.8MB/s eta 0:00:01\r\u001b[K     |████████████████████████████▏   | 870kB 2.8MB/s eta 0:00:01\r\u001b[K     |████████████████████████████▌   | 880kB 2.8MB/s eta 0:00:01\r\u001b[K     |████████████████████████████▉   | 890kB 2.8MB/s eta 0:00:01\r\u001b[K     |█████████████████████████████▏  | 901kB 2.8MB/s eta 0:00:01\r\u001b[K     |█████████████████████████████▌  | 911kB 2.8MB/s eta 0:00:01\r\u001b[K     |█████████████████████████████▉  | 921kB 2.8MB/s eta 0:00:01\r\u001b[K     |██████████████████████████████▏ | 931kB 2.8MB/s eta 0:00:01\r\u001b[K     |██████████████████████████████▌ | 942kB 2.8MB/s eta 0:00:01\r\u001b[K     |██████████████████████████████▉ | 952kB 2.8MB/s eta 0:00:01\r\u001b[K     |███████████████████████████████▏| 962kB 2.8MB/s eta 0:00:01\r\u001b[K     |███████████████████████████████▌| 972kB 2.8MB/s eta 0:00:01\r\u001b[K     |███████████████████████████████▉| 983kB 2.8MB/s eta 0:00:01\r\u001b[K     |████████████████████████████████| 993kB 2.8MB/s \n",
            "\u001b[?25h  Building wheel for PyDrive (setup.py) ... \u001b[?25l\u001b[?25hdone\n"
          ],
          "name": "stdout"
        }
      ]
    },
    {
      "cell_type": "code",
      "metadata": {
        "id": "JYJjVZ4dVc4K",
        "colab_type": "code",
        "colab": {}
      },
      "source": [
        "#@title Tools {display-mode: \"code\"}\n",
        "\n",
        "##\n",
        "# This method gets a folder by name in a particular start folder.\n",
        "# By default it starts at the top (root) level of your Google Drive\n",
        "# parentID is the folderID or 'root'\n",
        "# title is the name your looking for (default is the Colab Notebook folder)\n",
        "# \n",
        "def getFolderByName(parentID='root', title='Colab Notebooks'):\n",
        "  # Our mission here is to find the first folder that matches a specific name\n",
        "  folder_list = drive.ListFile({'q': f\"'{parentID}' in parents and mimeType='application/vnd.google-apps.folder'\"}).GetList()\n",
        "  for folder in folder_list:\n",
        "    if folder['title']==title:\n",
        "      return folder  # get the first folder that matches the name\n",
        "##\n",
        "# This method gets a list of files that are csv files who have a parent\n",
        "# identified by the provided to parentID \n",
        "#   n.b. it isn't recomended that you get all the files in all of your folders\n",
        "#        it is best to limit to a particular folder.\n",
        "def listCSVFiles(parentID=None):\n",
        "  if parentID is None:\n",
        "    colabID = getFolderByName()['id']\n",
        "    parentID = getFolderByName(parentID=colabID, title='data')['id']\n",
        "\n",
        "  # Get all csv files who share a parent with the given ID\n",
        "  file_list = drive.ListFile({'q': f\"'{parentID}' in parents and mimeType='text/csv'\"}).GetList()\n",
        "  return file_list\n",
        "\n",
        "##\n",
        "# return the important parts of the vast list of details \n",
        "# associated with the fileList\n",
        "def getImportantInformation(csvFileList, index=None):\n",
        "  if index is None:\n",
        "    for aFile in csvFileList:\n",
        "      print(f\"{aFile['title']:25}: id:{aFile['id']}\")\n",
        "  else:\n",
        "    aFile = csvFileList[index]\n",
        "    print(f\"{aFile['title']:25}: id:{aFile['id']}\")\n",
        "\n",
        "##\n",
        "# Get data from given file\n"
      ],
      "execution_count": 0,
      "outputs": []
    },
    {
      "cell_type": "code",
      "metadata": {
        "id": "K9Rg0CCvLAAh",
        "colab_type": "code",
        "outputId": "0f2f958b-6b69-48c3-b9fa-22a04f5f842e",
        "colab": {
          "base_uri": "https://localhost:8080/",
          "height": 145
        }
      },
      "source": [
        "fullList = listCSVFiles()\n",
        "getImportantInformation(fullList)\n"
      ],
      "execution_count": 0,
      "outputs": [
        {
          "output_type": "stream",
          "text": [
            "TerminalVelocity.csv     : id:16bJrRJbwZjqfNMIpblgU0XYS6dZKu7Ca\n",
            "MagDrop4.csv             : id:1ddCOyqxKpNdjZq_NMuM8SlvCyqIlLwSJ\n",
            "MagDrop3.csv             : id:122e8VYGOXm7qRsZKUtebZtTTfAl8tHlZ\n",
            "Inelastic.csv            : id:1wKvsUiJafbGKTtf9bCEIoFEn6XKh5MFL\n",
            "Collision.csv            : id:1ji5djbk3DzdH5pfrRmimnHCk4wRtu4c_\n",
            "CollisionNT.csv          : id:1Plhr5B_IhpmMVvy1hHeRFgfiAUJzofQK\n",
            "CollisionWT.csv          : id:1DXcbS_JLBWNpzYYqhlezC0SgpmH2YxEE\n"
          ],
          "name": "stdout"
        }
      ]
    },
    {
      "cell_type": "code",
      "metadata": {
        "id": "NOsZ0bC2TOig",
        "colab_type": "code",
        "colab": {}
      },
      "source": [
        "aFile = drive.CreateFile({'id': fullList[3]['id']})\n",
        "fileData = np.array(aFile.GetContentString().split('\\r\\n'))"
      ],
      "execution_count": 0,
      "outputs": []
    },
    {
      "cell_type": "markdown",
      "metadata": {
        "id": "17e8D0df_KRS",
        "colab_type": "text"
      },
      "source": [
        "### Directly uploading your data\n",
        "This method in retrospect may be the easiest way to get your data into the jupyter runtime. There are some limitations which you need to be aware of and, like the Direct Connection method, works best if you keep some level of organization.\n",
        "\n",
        "How this works is straightforward:\n",
        " 1. Collect all the data files you want to work with into a single folder on Google Drive.\n",
        " 0. Right click on the folder and choose 'download'\n",
        " 0. The folder will download as a *.zip* file which is a single compressed file of all the individual files contained within\n",
        " 0. Switch to the CoLab notebook and open the side panel to click on the '*File*' tab.\n",
        "   - Click on the UPLOAD button and choose the *.zip* file you just downloaded\n",
        "   - You file will upload to your virtual machine.\n",
        " 0. You can now decompress your file by simply by executing the following command in a code cell:\n",
        " ```python\n",
        " !unzip name_of_zip_file.zip   # unzip the file\n",
        " \n",
        " ```\n",
        " 0. You will now see a folder with the same name as the one you compressed to create the folder in the first place.\n",
        " \n",
        "\n",
        "This seems like a alot of steps but they are actually quite simple and are always the same.  The folder and the files it contains will disappear if the virtual machine shuts down.  This is much like our laptops with the guest accounts which delete everything when you log out.  The virtual environment you are working in is like having your own personal computer as long as you stay with it.  If you leave it alone too long. The machine shuts down and you loose the files.  Your notebook __is__ preserved, however, so you don't loose the code, graphs, and text you created."
      ]
    },
    {
      "cell_type": "code",
      "metadata": {
        "id": "VCLJsZw6-lFT",
        "colab_type": "code",
        "outputId": "4753eef3-acca-44fa-ae78-61e015a3891f",
        "colab": {
          "base_uri": "https://localhost:8080/",
          "height": 163
        }
      },
      "source": [
        "!unzip data-20190508T224656Z-001.zip"
      ],
      "execution_count": 0,
      "outputs": [
        {
          "output_type": "stream",
          "text": [
            "Archive:  data-20190508T224656Z-001.zip\n",
            "  inflating: data/MagDrop4.csv       \n",
            "  inflating: data/Collision.csv      \n",
            "  inflating: data/CollisionWT.csv    \n",
            "  inflating: data/Inelastic.csv      \n",
            "  inflating: data/TerminalVelocity.csv  \n",
            "  inflating: data/MagDrop3.csv       \n",
            "  inflating: data/CollisionNT.csv    \n"
          ],
          "name": "stdout"
        }
      ]
    },
    {
      "cell_type": "code",
      "metadata": {
        "id": "P5YYaG57qlEx",
        "colab_type": "code",
        "outputId": "107e380f-d96e-401c-e00d-ddabf68efab8",
        "colab": {
          "base_uri": "https://localhost:8080/",
          "height": 284
        }
      },
      "source": [
        "#@title Code Example { display-mode: \"code\" }\n",
        "\n",
        "# How to read from a local file in your virtual machine\n",
        "\n",
        "# File available is: MagDrop3.csv\n",
        "# Open the Files tab to see the directory and open the folder where the file is kept.\n",
        "fileRef = \"data/MagDrop3.csv\"\n",
        "\n",
        "# We know the first row is a list of titles so we extract that separately\n",
        "titles = np.loadtxt( fileRef, max_rows=1, delimiter=\",\", dtype=np.str )\n",
        "\n",
        "# The numpy call looks like the straight file read now.\n",
        "data = np.loadtxt( fileRef, skiprows=1, delimiter=\",\" )\n",
        "\n",
        "# show the column names and data type\n",
        "# moreover we can plot this relationship easily\n",
        "plt.scatter(data.transpose()[0], data.transpose()[1])\n",
        "plt.xlabel(titles[0])\n",
        "plt.ylabel(titles[1])\n",
        "plt.grid(True)\n"
      ],
      "execution_count": 0,
      "outputs": [
        {
          "output_type": "display_data",
          "data": {
            "image/png": "[encoded data removed]",
            "text/plain": [
              "<Figure size 432x288 with 1 Axes>"
            ]
          },
          "metadata": {
            "tags": []
          }
        }
      ]
    },
    {
      "cell_type": "code",
      "metadata": {
        "id": "-S8ubGItDh0S",
        "colab_type": "code",
        "colab": {}
      },
      "source": [
        ""
      ],
      "execution_count": 0,
      "outputs": []
    }
  ]
}