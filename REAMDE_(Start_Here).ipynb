{
  "nbformat": 4,
  "nbformat_minor": 0,
  "metadata": {
    "colab": {
      "name": "REAMDE-(Start Here).ipynb",
      "provenance": [],
      "collapsed_sections": [],
      "include_colab_link": true
    },
    "kernelspec": {
      "name": "python3",
      "display_name": "Python 3"
    }
  },
  "cells": [
    {
      "cell_type": "markdown",
      "metadata": {
        "id": "view-in-github",
        "colab_type": "text"
      },
      "source": [
        "<a href=\"https://colab.research.google.com/github/pbeeken/JupyterPhysics/blob/master/REAMDE_(Start_Here).ipynb\" target=\"_parent\"><img src=\"https://colab.research.google.com/assets/colab-badge.svg\" alt=\"Open In Colab\"/></a>"
      ]
    },
    {
      "cell_type": "markdown",
      "metadata": {
        "id": "4P3UF77Z27vB",
        "colab_type": "text"
      },
      "source": [
        "# Jupyter Overview\n",
        "<img src=\"https://jupyter.org/jupyter-book/images/logo/logo.png\" align=\"right\" width=\"50px\" hspace=\"5px\"/>\n",
        "Jupyter is an interactive notebook where you can mix calculations, explanatory text and graphs in one document.  Originally developed for using python as an interactive tool for data science (the study and analysis of large data collections) it has grown to include a variety of different fields where spreadsheets don't quite capture the much needed combination of modelling, numerical analysis coupled with expository text needed to explain reasoning."
      ]
    },
    {
      "cell_type": "markdown",
      "metadata": {
        "id": "6c3UMO0tJhUd",
        "colab_type": "text"
      },
      "source": [
        "## Spreadsheets (why we are doing this)\n",
        "_Just some historical context_"
      ]
    },
    {
      "cell_type": "markdown",
      "metadata": {
        "id": "SexqqDOkdGvg",
        "colab_type": "text"
      },
      "source": [
        "<!--img src=\"https://www.gstatic.com/images/branding/product/1x/sheets_48dp.png\" align=\"left\"/-->\n",
        "<img src=\"https://upload.wikimedia.org/wikipedia/commons/thumb/7/7a/Visicalc.png/300px-Visicalc.png\" align=\"left\" height=\"150px\" hspace=\"20px\"/>\n",
        "\n",
        "Spreadsheets (*SS*) were a revolution in their day but are designed around and engineered for accounting.  Science coopted the technology because, much of the time, we catalog information in tables. The numerical capabilities of *SS* are ideal for performing systematic calculations on the data on an element by element basis.  Data charting is also a standard feature of most spreadsheet environments and serves well to visualize large data sets.  The business application of spreadsheets, however, drives the design of these tools that require people in the engineering and science world to constantly adapt to this environment. As a consequence, using *SS* can become tedious.\n",
        "\n",
        "<img src=\"https://drive.google.com/uc?id=1L2MBuyqZ1l-kycsBj9APVUGYf8gOE0A1\" align=\"right\" width=\"300px\" hspace=\"20px\"/>A clear example of how the mechanics of *SS* can get in the way of mathematical modelling is built in to the nature of how calculations are performed on large data sets.  Spreadsheets organize data in cells.  To perform a calculation on a column of values requires that you set up the calculation for one cell and then copy the calculation down an entire adjacent column. Generally, this works well but if you desire to change the calculation (or model)  this sequence must be repeated each time.  For large datasets that extend below the view it is easy to make an error in the 'propogation' (copied down the column) and the imperfection can go unnoticed.  This was and still is a problem for financial modelers that serious consideration was given to the requirement that models submitted by banks to regulators be done in a programming language which could be more easily debugged. \n",
        "\n",
        "When it comes to graphing data, in an effort to make the manipulation of *SS* easy for all users, many of the operations requried to perform even routine tasks are done through menus and dialog boxes. If you don't keep careful track of which menu/dialog/option you chose and in what order, it is hard to reproduce what you did the next time you want to perform a similar set of operations. This problem becomes particularly acute with the graphing of data. Something we do all the time.\n",
        "\n",
        "<img src=\"https://drive.google.com/uc?id=1L08ryhqPmbIdm-veBT3a6sQpKa3wq81B\" align=\"left\" width=\"200px\" hspace=\"20px\"/>\n",
        "\n",
        "Almost all business graphing assumes that data is equally spaced (daily, monthly or quarterly) so the need for charting correlated data pairs is rarely needed.  In engineering and science however, data comes as correlated pairs so we rely on '*scatter plots*'.  The default charting method in spreadsheets (Google sheets used to be an exception but they, too, have gone to the dark side &#x1F60E;) often has to be overriden using a variety of menu and dialog steps which are hard to recall.\n",
        "\n",
        "Finally, while *SS* are a fine tool, if you need to annotate or explain the nature of what you are doing or why, you must copy the relevant pieces to a word processing file (requiring a context switch) to document your activities.  Redoing a calculation or graph often requires navigating back and forth between a couple of related tools making revisions tedious.\n"
      ]
    },
    {
      "cell_type": "markdown",
      "metadata": {
        "id": "ujcsIOWyJwL7",
        "colab_type": "text"
      },
      "source": [
        "## Jupyter (a different way)\n",
        "_Our proposed alternative_"
      ]
    },
    {
      "cell_type": "markdown",
      "metadata": {
        "id": "aCdxzp_-3E9k",
        "colab_type": "text"
      },
      "source": [
        "<img src=\"https://jupyter.org/assets/main-logo.svg\" align=\"right\"/>*Jupyter*, as already mentioned, is a uniform environment where data, graphics and text can be freely mixed with a powerful calculation capability to both model and analyze data. Unlike spreadsheets, the user can create and/or store datasets in named lists and perform calculations on a large sets of values as easily as if they were performing a calculation on a single value.  The graphing environment is rich and powerful (something we all aspire to) yet very easy to use.  The neat thing about the *jupyter* world is that the user need not know programming to use the basic capabilities.  Yes, there is no simple menu system but this is an advantage as you have a complete record of the steps needed to produce a result like a calculation or plot.  You could, at first, just '*cookbook*' your way to the results.\n",
        "\n",
        "For Jupyter, a general knowledge of algebra is sufficient to accomplish many tasks.  Just as programming knowledge is not needed to use *SS* you don't have to be a programmer to use *Jupyter*. Mind you, if you want to move past the basics. learning some coding skills can make the job easier but with only a handful of tools you can go very far. The good news is mastering the basics of *jupyter* sets the user up fo learning the python language as the rules are absolutely consistent.  In *SS*, by contrast, local calculations bear no resemblance to the underlying scripting language (either visual basic or javascript) but in Jupyter the programming framework is the same throughout."
      ]
    },
    {
      "cell_type": "markdown",
      "metadata": {
        "id": "1T5JDiw_7Wl4",
        "colab_type": "text"
      },
      "source": [
        "# Jupyter as a tool <img src=\"https://jupyter.org/assets/main-logo.svg\" align=\"right\"/>\n",
        "\n",
        "To get started you need only develop two skills:\n",
        "\n",
        " - a basic grasp of *markdown*: the tool for generating notes like these and\n",
        " - the rudiments of the **scipy** framework which can be, after a little setup, little different than how we work with a modern calculator like the TInspire&trade;.\n",
        " "
      ]
    },
    {
      "cell_type": "markdown",
      "metadata": {
        "id": "EOrJehr6Gj5f",
        "colab_type": "text"
      },
      "source": [
        "## Overview\n",
        "How CoLab (Google's spin on Jupyter Notebooks) is laid out."
      ]
    },
    {
      "cell_type": "markdown",
      "metadata": {
        "id": "m0X3zj09GtWA",
        "colab_type": "text"
      },
      "source": [
        "###Cells\n",
        "A notebook is a list of cells. Cells contain either explanatory text or executable code and its output. Click a cell to select it."
      ]
    },
    {
      "cell_type": "markdown",
      "metadata": {
        "id": "JV3KgMAXHEUv",
        "colab_type": "text"
      },
      "source": [
        "#### Text cells"
      ]
    },
    {
      "cell_type": "markdown",
      "metadata": {
        "id": "BAGqfnwhHiPV",
        "colab_type": "text"
      },
      "source": [
        "This is a **text cell**. You can **double-click** to edit this cell. Text cells\n",
        "use markdown syntax. To learn more, see our [markdown\n",
        "guide](/notebooks/markdown_guide.ipynb).\n",
        "\n",
        "You can also add math to text cells using [LaTeX](http://www.latex-project.org/)\n",
        "to be rendered by [MathJax](https://www.mathjax.org). Just place the statement\n",
        "within a pair of **\\$** signs. For example `$\\sqrt{3x-1}+(1+x)^2$` becomes\n",
        "$\\sqrt{3x-1}+(1+x)^2.$"
      ]
    },
    {
      "cell_type": "markdown",
      "metadata": {
        "id": "kOqhN9BfH71X",
        "colab_type": "text"
      },
      "source": [
        "**Markdown**\n",
        "\n",
        "A long time ago, In a galaxy far, far away there were no WYSIWYG (**w**hat **y**ou **s**ee **i**s **w**hat **y**ou **g**et) word processors. The world was filled with basic text editors and some specialized character combinations called *'mark up'* codes. These files that contained the text with embedded combination of characters that would signal to a program that would look for these codes and build a page with the appearance we wanted. The result would be then sent to a printer for final rendering.  Along came word processors and nifty ways to format documents 100 which ways.  All of these efforts meant navigating through deeply nested menus which took your attention away from your writing while you went on an adventure to find just the right font or decoration for your needs.  *'Mark down'* is a return to those bygone days where the mission isn't to pick the perfect font but to quickly and concisely communicate without distracting you from the task at hand. Deliberately, *mark down* is intended to be short and sweet with only a handful of commands.  Dispite its simplicity, however, you'll be astonished by its power.\n",
        "\n",
        "> [Markdown Notebook](https://colab.research.google.com/drive/1QWlcJSnQsSTVvH50N_w_ko5RmCdZuLEQ#scrollTo=UaAyiC_BQm8a)  will walk you through some basic markdown tools that will be useful.  There are some special surprises in the Google documentation (likle embedding YouTube videos and such) but this notebook will get you through he basics."
      ]
    },
    {
      "cell_type": "markdown",
      "metadata": {
        "id": "fyQBL7n2Gz15",
        "colab_type": "text"
      },
      "source": [
        "#### Code cells"
      ]
    },
    {
      "cell_type": "markdown",
      "metadata": {
        "id": "NmyMTORWHaXx",
        "colab_type": "text"
      },
      "source": [
        "Below is a **code cell**. Once the toolbar button indicates CONNECTED, click in the cell to select it and execute the contents in the following ways:\n",
        "\n",
        "* Click the **Play icon** <img src=\"https://drive.google.com/uc?id=1MV9Moe3n7Fqe5OgwTAcBuZ66bOjZoYCm\"/> in the left gutter of the cell;\n",
        "* Type **Cmd/Ctrl+Enter** to run the cell in place;\n",
        "* Type **Shift+Enter** to run the cell and move focus to the next cell (adding one if none exists); or\n",
        "* Type **Alt+Enter** to run the cell and insert a new code cell immediately below it.\n",
        "\n",
        "There are additional options for running some or all cells in the **Runtime** menu."
      ]
    },
    {
      "cell_type": "code",
      "metadata": {
        "id": "l7OKZFn9HBog",
        "colab_type": "code",
        "outputId": "5508ebf4-a5a7-4cf7-d60b-41561ad51853",
        "colab": {
          "base_uri": "https://localhost:8080/",
          "height": 35
        }
      },
      "source": [
        "a = 10\n",
        "a*3.56"
      ],
      "execution_count": 0,
      "outputs": [
        {
          "output_type": "execute_result",
          "data": {
            "text/plain": [
              "35.6"
            ]
          },
          "metadata": {
            "tags": []
          },
          "execution_count": 1
        }
      ]
    },
    {
      "cell_type": "markdown",
      "metadata": {
        "id": "FjY_ESRJIUmw",
        "colab_type": "text"
      },
      "source": [
        "**Code**\n",
        "\n",
        "Don't let the term scare you. Code cells are simply places to do the calculations we need to estimate values based on physical models, process data, and plot values. Because we have to type instructions in, as we would on our calculator we maintain a record of what we have done. Once we have a set of steps to produce a result, changing the input is simply a matter of copying and pasing previous steps and changing the values.\n",
        "\n",
        "> [Code Notebook](https://colab.research.google.com/drive/1TImEHrfUkK7nv-Z_8kdRjO8IwoMzYa3-#scrollTo=Ef-fC9MjAJyz) gives you an operational overview of what we can do. It is not intended as a programming course (those are separate set of files.) \n",
        "\n",
        "> [Coding Instructional](https://colab.research.google.com/drive/1FCohHCx3fDp9pfIYF1qKQ2hZZyx0x2z2#scrollTo=JtZkHORyTB61) is not intended as a full blown programming course. It is just a light introduction into the essentials of what we can do with this system.\n"
      ]
    },
    {
      "cell_type": "markdown",
      "metadata": {
        "id": "wrDzZc9fIlMk",
        "colab_type": "text"
      },
      "source": [
        "**Calculations**\n",
        "\n",
        "Once you develop some comfort with how code cells work you can expand the tools which allow you to develop models with greater complexity.  For example, you can add units to your calculations (so that conversions from convenient units to standard units becomes automatic.)  You can perform symbolic manipulation of complex algebraic models (in the same way you can with the CAS model Tinpire&trade;)\n",
        "\n",
        " > [Calculations](https://colab.research.google.com/drive/1jnc_e-OuJxz4Duq_HcWvqTNLcWhvRa8U#scrollTo=DNy9b9itq7je)  discusses, in more depth, how to use Jupyter to do calculations and modelling.\n",
        " \n",
        " > [Symbolic Manipulation](https://colab.research.google.com/drive/1hHosFJ_I6N5PODlBR1H80Ez-gw-gC2Av#scrollTo=o1YtzRs-egxI) shows how to use Jupyter in the same way you might a CAS model calculator.\n",
        " \n",
        " > As your comfort grows there are some specific tools that can help you do calculations and model.\n",
        " \n",
        " >> [Pint](https://pint.readthedocs.io/en/0.9/) a library for doing calculations with units.\n",
        " \n",
        " >> [SymPy](https://www.sympy.org/en/index.html) a library for manipulating symbolic manipulations\n",
        " "
      ]
    },
    {
      "cell_type": "markdown",
      "metadata": {
        "id": "WXqXOVzFKZbL",
        "colab_type": "text"
      },
      "source": [
        "### How does this work?\n",
        "_under the hood description (skim but come back to this because it is useful to know)_"
      ]
    },
    {
      "cell_type": "markdown",
      "metadata": {
        "id": "ke0R4Bnw2kJB",
        "colab_type": "text"
      },
      "source": [
        "In any endevor, knowing a little about how things work under the hood can save you a lot of trouble when you don't get exactly what you expect.  The way Google has implemented Jupyter is to launch a virtual machine that runs all the programming tasks in the cloud.  The virtual machine is launched the moment you try to 'run' a code cell and remains active for as long as you are working with it. If you stop using it for a while the machine shuts down and everything is wiped.  Don't panic.  Your notebook and anything you typed in it is preserved and saved automatically.\n",
        "\n",
        "The unofficial word is that  the virtual machine lives for: \n",
        "\n",
        "``90 minutes if you close the browser. 12 hours if you keep the browser open.``\n",
        "\n",
        "OK for us this seems like forever. We can work with this. Now to explain the first paragraph. Some definitions:\n",
        " - [Virtual Machine](https://en.wikipedia.org/wiki/Virtual_machine) is a model computer system that in every sense of the word is like your laptop/desktop. Because it is emulated on a very fast system it can be started and stopped and even re-installed in a moment.\n",
        " - [the cloud](https://en.wikipedia.org/wiki/Cloud_computing) in this instance is a set of resources (like data storage and computational tools) distributed on the internet. The idea is to abstract what we need so it can be delivered as a service.  The CoLab service is currently free but many other services can cost.\n",
        "\n",
        "#### What is bad about this?\n",
        "Since the resources are shared, the system will detect if you are not using it and shut down your 'instance' so those resources can be used by someone else.  This means if you have spent a lot of time configuring your environment then that effort can be lost.\n",
        "\n",
        "#### What is good about this?\n",
        "The notebook you are working in, this notebook for example, all live elsewhere. Everything you typed into it is preserved.  In our work we will not be spending oodles of time setting up an elaborate environment so if it shuts down because we got distracted watching that new viral YouTube cat video, no big deal.  Here is another plus: the virtual machine is a full fledged Linux OS (Generic, No Graphical User Interface) you can run any linux command you can dream of. Heck you can delete files and totally trash the virtual machine.  If you break it, just shut it down, re-launch and you have a brand new system. You can't do permanent damage.  Write some program or script that goes into an infinite loop? No problem. Shut it down and relaunch.  All fixed.\n",
        "\n",
        "There are even cooler tricks but this is enough for now.\n",
        "\n"
      ]
    }
  ]
}