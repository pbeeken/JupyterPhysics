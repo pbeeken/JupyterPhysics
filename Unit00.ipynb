{
  "nbformat": 4,
  "nbformat_minor": 0,
  "metadata": {
    "colab": {
      "name": "Unit00.ipynb",
      "provenance": [],
      "collapsed_sections": [
        "5wj4NRClg68p",
        "cutJ7pJJvPST",
        "bErLgHF_Tlif",
        "YZqP_im_TbZ0",
        "VgtEw68VofDj",
        "cISC7IXugLp-",
        "e4GFbRfoqtXI",
        "Y8YXOYOg6_6V",
        "P5IUst_FExcu"
      ],
      "toc_visible": true,
      "authorship_tag": "ABX9TyMZUgLAySeQvBDobdCWRIWA",
      "include_colab_link": true
    },
    "kernelspec": {
      "name": "python3",
      "display_name": "Python 3"
    }
  },
  "cells": [
    {
      "cell_type": "markdown",
      "metadata": {
        "id": "view-in-github",
        "colab_type": "text"
      },
      "source": [
        "<a href=\"https://colab.research.google.com/github/pbeeken/JupyterPhysics/blob/master/Unit00.ipynb\" target=\"_parent\"><img src=\"https://colab.research.google.com/assets/colab-badge.svg\" alt=\"Open In Colab\"/></a>"
      ]
    },
    {
      "cell_type": "markdown",
      "metadata": {
        "id": "y_DJIbkfu5-P",
        "colab_type": "text"
      },
      "source": [
        "# Jupyter Overview\n",
        "<img src=\"https://jupyter.org/jupyter-book/images/logo/logo.png\" align=\"right\" width=\"50\"/>\n",
        "Jupyter is an interactive notebook where you can mix calculations, explanatory text and graphs in one document.  Originally developed for using python as an interactive tool for data science (the study and analysis of large data collections) it has grown to become a tool for a variety of different fields where spreadsheets don't quite capture the much needed combination of modelling, numerical analysis coupled with expository text needed to annotate  reasoning.\n",
        "\n",
        "A Jupyter Notebook consists of two types of record keeping units: \n",
        " - Text Cells, where notes are kept\n",
        " - Code Cells, where calculations are performed.\n",
        "\n",
        "The nicest part of the Notebook environment is that once the calulations are performed, graphs and charts prepared and hypotheses made and conclusions drawn all the results are preserved in a form that can be easily read.  This a tool where the effort of keeping records writes its own report."
      ]
    },
    {
      "cell_type": "markdown",
      "metadata": {
        "id": "5wj4NRClg68p",
        "colab_type": "text"
      },
      "source": [
        "## Text Cells"
      ]
    },
    {
      "cell_type": "markdown",
      "metadata": {
        "id": "cutJ7pJJvPST",
        "colab_type": "text"
      },
      "source": [
        "### Basics"
      ]
    },
    {
      "cell_type": "markdown",
      "metadata": {
        "id": "TMVgYvWLwD4_",
        "colab_type": "text"
      },
      "source": [
        "This is a **text cell**. You can **double-click** to edit this cell. Text cells\n",
        "use markdown syntax. In order to learn more than this quick summary, see the [markdown guide](/notebooks/markdown_guide.ipynb).\n",
        "\n",
        "You can also add math to text cells using [LaTeX](http://www.latex-project.org/)\n",
        "to be rendered by [MathJax](https://www.mathjax.org). Just place the statement\n",
        "within a pair of **\\$** signs. For example `$\\sqrt{3x-1}+(1+x)^2$` becomes\n",
        "$\\sqrt{3x-1}+(1+x)^2.$"
      ]
    },
    {
      "cell_type": "markdown",
      "metadata": {
        "id": "WHw8SIxlmKtU",
        "colab_type": "text"
      },
      "source": [
        "Text cells are where you can provide an introduction, an hypothesis, a description of a model, empiracle results, analysis and conclusions.  In order to facilitate composition there is a trick for formatting your work.  Text cells use **_MarkDown_** which is the way format our script.\n",
        "\n",
        "A text cell provides a set of formatting tools at the top of each cell but all they do is insert certain combinations of characters to create the effect.  After a short while you will start using these formatting tags without the need of menus. Hear is a brief list of options:\n"
      ]
    },
    {
      "cell_type": "markdown",
      "metadata": {
        "id": "bErLgHF_Tlif",
        "colab_type": "text"
      },
      "source": [
        "#### Headings \n",
        "`#`s placed at the beginning of a line:"
      ]
    },
    {
      "cell_type": "markdown",
      "metadata": {
        "id": "3wcr75ruTQJo",
        "colab_type": "text"
      },
      "source": [
        "<H1>Level One</H1> \n",
        "`# Level One` $|$ e.g. Title\n",
        "\n",
        "<H2>Level Two</H2>\n",
        "`## Level Two` $|$ e.g. Chapter\n",
        "\n",
        "<H3>Level Three</H3>\n",
        "`### Level Three` $|$ e.g. Section\n",
        "\n",
        "<H4>Level Four</H4>\n",
        "`#### Level Four` $|$ e.g Item or subsection\n",
        "\n",
        "and so on"
      ]
    },
    {
      "cell_type": "markdown",
      "metadata": {
        "id": "YZqP_im_TbZ0",
        "colab_type": "text"
      },
      "source": [
        "#### Inline formatting \n",
        "things you can do as you type:\n"
      ]
    },
    {
      "cell_type": "markdown",
      "metadata": {
        "id": "ZLBCk2Z5ft2Y",
        "colab_type": "text"
      },
      "source": [
        "*Italic*, `*Italic*`\n",
        "\n",
        "**Bold**, `**Bold**`\n",
        "\n",
        "_**Both**_, `_**Both**_` or `**_Both_**`  \n",
        "\n",
        "~Strikeout~, `~Strikeout~`, In scientific note taking it is useful to cross out a changed idea rather than deleting it so you keep a record"
      ]
    },
    {
      "cell_type": "markdown",
      "metadata": {
        "id": "VgtEw68VofDj",
        "colab_type": "text"
      },
      "source": [
        "#### Lists\n",
        "Enumerating things"
      ]
    },
    {
      "cell_type": "markdown",
      "metadata": {
        "id": "c0ttCCUuk8iW",
        "colab_type": "text"
      },
      "source": [
        "**Ordered Lists**\n",
        "  3. Ordered lists start with an indent (a space)\n",
        "  3. They auto number starting with the value of the first element\n",
        "  2. Subsequent numbered values (as long as they are a number indicate the continuance of the list)\n",
        "    1. we can indent or create a sublist by increasing the number of spaces\n",
        "    8. the same rules apply for numbering order\n",
        "  4. restoring the indent level continues the count \n",
        "\n",
        "The above was created with the following markings.\n",
        "```\n",
        "  3. Ordered lists start with an indent (a space)\n",
        "  3. They auto number starting with the first element\n",
        "  2. Subsequent numbered values (as long as they are a number indicate the continuance of the list)\n",
        "    1. we can indent or create a sublist by increasing the number of spaces\n",
        "    8. the same rules apply for numbering order\n",
        "  4. restoring the indent level continues the count \n",
        "```\n",
        "---\n",
        "\n",
        "**Unordered Lists**\n",
        "\n",
        "  - indenting with a space and a dash creates a 'bulleted' list\n",
        "    - indenting with two spaced changes the bullet\n",
        "      - the type of dingbat (technical term) isn't an option\n",
        "  - restoring th indent level (number of spaces) returns to the original style\n",
        "\n",
        "```\n",
        "  - indenting with a space and a dash creates a 'bulleted' list\n",
        "    - indenting with two spaced changes the bullet\n",
        "      - the type of dingbat (technical term) isn't an option\n",
        "  - restoring th indent level (number of spaces) returns to the original style\n",
        "```\n",
        "---\n",
        "\n",
        "**Indentation**\n",
        "\n",
        "Start a line with 'greater than' sign `>` to indent the line and set it off against the rest of the text\n",
        "> This part is indented from the text above as one might do for a quote or to highlight a key point.\n",
        ">> Add more  `>>` to indent further."
      ]
    },
    {
      "cell_type": "markdown",
      "metadata": {
        "id": "cISC7IXugLp-",
        "colab_type": "text"
      },
      "source": [
        "#### Inclusions\n",
        "Additional things you can place in a text cell"
      ]
    },
    {
      "cell_type": "markdown",
      "metadata": {
        "id": "Mhl4dhvGvR0q",
        "colab_type": "text"
      },
      "source": [
        "*Horizontal lines* can be inserted line across the cell to seperate the space by typing three dashes at the beginning of the line.\n",
        "\n",
        "`---`  yields:\n",
        "\n",
        "---\n",
        "\n",
        "*References* can be provided by enclosing text in square quotes and following immediately with parentheses.  \n",
        "\n",
        "`[markdown reference](/notebooks/markdown_guide.ipynb)` yields: [markdown reference](/notebooks/markdown_guide.ipynb)\n",
        "\n",
        "If you put an exclamation point in front you get an image:\n",
        "`![Jupyter Logo](https://jupyter.org/assets/main-logo.svg)` yields: ![Jupyter Logo](https://jupyter.org/assets/main-logo.svg) in line with the text."
      ]
    },
    {
      "cell_type": "markdown",
      "metadata": {
        "id": "e4GFbRfoqtXI",
        "colab_type": "text"
      },
      "source": [
        "### Images\n",
        "Here is a bit more detail"
      ]
    },
    {
      "cell_type": "markdown",
      "metadata": {
        "id": "T1zTMYmb42s4",
        "colab_type": "text"
      },
      "source": [
        "Images are more nuanced.  As you saw above you can insert an image *in place* by typing something like the following.\n",
        "`![Jupyter Logo](https://jupyter.org/assets/main-logo.svg)`\n",
        "But for images, this isn't always what you want.  If you want to insert a graph or a picture of experimental apparatus you might want the image to appear alongside or at least close to you discussion of it.\n",
        "\n",
        "By typing the sequence on its own line you can insert the image on its own line rather than embedded with the text:\n",
        "\n",
        "![Jupyter Logo](https://jupyter.org/assets/main-logo.svg)\n",
        "\n",
        "These two options doesn't give the writer much flexibility.  A better option is to use the HTML `<img/>` tag. (There are a number of HTML tags that work alongside _**MarkDown**_.)\n",
        "\n",
        "Using the `<img/>` tag can give you more options to control where and how large <img src=\"https://jupyter.org/assets/main-logo.svg\" align=\"right\" hspace=\"10px\"/>\n",
        "the \n",
        "<img src=\"https://jupyter.org/assets/main-logo.svg\" align=\"middle\" hspace=\"4px\" height=\"20px\"/>\n",
        "image is embedded with the text. Using the `align` property you can cause it to float left or right with text flowing to the other side and with the `height` and `width` property you can control the size.  Some additional tweaking with `hspace` and `vspace` controls how much space there is around the image.\n",
        "\n",
        "Here are some examples\n",
        "\n",
        " - `<img src=\"https://jupyter.org/assets/main-logo.svg\" align=\"right\" hspace=\"10px\"/>`\n",
        "   - align right\n",
        "   - flow text to the left\n",
        "   - keep a 10 pixel space to the left and right\n",
        "   - the right image demonstrates this above\n",
        " - `<img src=\"https://jupyter.org/assets/main-logo.svg\" align=\"middle\" hspace=\"4px\" height=\"20px\"/>`\n",
        "   - align in place centering on the line (with respect to the image height)\n",
        "   - scale it so the height is 20 pixels\n",
        "   - see the small icon inside the above line\n"
      ]
    },
    {
      "cell_type": "markdown",
      "metadata": {
        "id": "Y8YXOYOg6_6V",
        "colab_type": "text"
      },
      "source": [
        "###Formulas\n",
        "We can embed formulas and mathematics (the language of science) easily in our text areas."
      ]
    },
    {
      "cell_type": "markdown",
      "metadata": {
        "id": "A2A1FnBK7XpP",
        "colab_type": "text"
      },
      "source": [
        "The single most powerful tool in the _**Markdown**_ toolkit is the ability write formulas as easy as it is to type. The coding method for writing formulas is $\\LaTeX$, a nearly universal language for rendering math. \n",
        "\n",
        "All $\\LaTeX$ is sandwiched between a pair of single dollar signs (`$`) or double dollar signs (`$$`). The first renders the formula inline with the text while the second sets the math expression on its own line.  The formula for finding the roots of the exrpression $0=a\\;x^2 + b\\;x + c$ is...\n",
        "\n",
        "$$\n",
        "x = \\frac{-b \\pm \\sqrt{b^2 - 4 a c}}{2 a} \\tag{1}\n",
        "$$\n",
        "\n",
        "The library of symbols and possible combinations are vast.  Fortunately there are plenty of tools to help compose mathematical expressions:  \n",
        "[CodeCogs](https://www.codecogs.com/latex/eqneditor.php), [Online Latex Equation Editor](https://www.latex4technics.com/),\n",
        "[Daum Equation Editor](http://s1.daumcdn.net/editor/fp/service_nc/pencil/Pencil_chromestore.html), [Tutorals Equation Editor](https://www.tutorialspoint.com/latex_equation_editor.htm), and many, many others.  Using an external editor is tedious and defeats the purpose but the basic syntax will become very familiar in a short time so eventually you will be able to compose expressions on the fly.\n",
        "\n",
        " - greek letters are produced by starting with a backslash (`\\`) and following with the name of hte letter typed out:\n",
        "   - $\\alpha$ $\\beta$ $\\gamma$ ... $\\omega$ \n",
        "   - $\\theta$ $\\Phi$ $\\Omega$\n",
        " - super and subsctipts are produced by following symbols with a caret or underline:\n",
        "   - `t^2` or `e^{-x}` a caret after a symbol creates a superscript $t^2$ and $e^{-x}$\n",
        "   - `x_0` and `v_{y0}` an underline after a symbol creates a subscript $x_0$ and $v_{y0}$\n",
        "   - group elements with curly braces `{}`\n",
        " - special functions can create useful annotations:\n",
        "   - `\\vec{r}` will create a vector symbol for r: $\\vec{r}$\n",
        "   - `\\sqrt{2}` show the square root of 2: $\\sqrt{2}$ \n",
        "   - `\\frac{3}{x}` and `3/4` can be used to show fractions: $\\frac{3}{x} \\text{ and } 3/4$\n",
        "   - `\\int_0^5 x^2 \\mathbb{d}x` combines these elements to produce a definite integral $\\int_0^5 x^2 \\mathbb{d}x$\n",
        "\n",
        "There are many other constructs and symbols.  Learn them as needed and before long you will be able to write out expressions with relative ease."
      ]
    },
    {
      "cell_type": "markdown",
      "metadata": {
        "id": "P5IUst_FExcu",
        "colab_type": "text"
      },
      "source": [
        "### Suggested Practices\n",
        "Tips and tricks to good effect."
      ]
    },
    {
      "cell_type": "markdown",
      "metadata": {
        "id": "G4imLq8rE2Bk",
        "colab_type": "text"
      },
      "source": [
        "The Jupyter Notebook system can be installed locally on many different machines.  It can be installed on servers on a local area network (LAN) or even in the cloud.  There are subtle differences between different renditions of the server that runs the display engine.  The recommendations, here, refer to Google's CoLab notebook which adds some additional features to the traditional Jupyter engine. Some of these features are available in the standard Jupyter Notebook as 'add-ons' which is one of the reasons Google's CoLab has been rising popularity - little need to install additional packages.\n",
        "\n",
        " - **Use headers in their own text cells to facilitate collapsing sections**\n",
        "    - Some _**Jupyter**_ notebook engines, CoLab in particular, allow you to collapse regions of of a document between similar headings.\n",
        "    - As demonstrated within this document, headers (lines offset by hashtags `#`) optionally followed by short explanitory captions can be collapsed with a small triangle which can declutter the view once you are finished with that section.\n",
        "    - When analyzing data, for example, it is important to be able to present your data but it can occupy a large amount of space within the document.  By placing all the data tables in a collapsable section allows people to have access but hide it when they are trying to understand your larger point.\n",
        "\n",
        " - **Provide explanations to illusrations**\n",
        "    - The mission of using a Jupyter Notebook is to facilitate the presentation of quantitative reasoning.  Illustrations, whether a graph or an image, it's purpose is to further the purpose of the investigation.\n"
      ]
    },
    {
      "cell_type": "markdown",
      "metadata": {
        "id": "_ss-XUOzmH0w",
        "colab_type": "text"
      },
      "source": [
        "## Code Cells"
      ]
    },
    {
      "cell_type": "markdown",
      "metadata": {
        "id": "1fpJKjPyEWZ3",
        "colab_type": "text"
      },
      "source": [
        "Along with arguments we need to back up our claims with data and numerical analysis. This is the job of *Code Cells*.  Getting started using these cells is little different than using a calculator.  As you gain experience you sophistication with the calculations and modelling with grow.  The other units in this series will help build these skills."
      ]
    },
    {
      "cell_type": "code",
      "metadata": {
        "id": "Sw9B1tTcEQmy",
        "colab_type": "code",
        "cellView": "both",
        "outputId": "4649854e-0498-408a-92f2-d5643b1e1976",
        "colab": {
          "base_uri": "https://localhost:8080/",
          "height": 33
        }
      },
      "source": [
        "#@title Calculation\n",
        "# Code cells can be treated like calculators. The first time you execute the code \n",
        "# it may take a moment for the server to get going but soon it will perform the calculation\n",
        "\n",
        "# The result of the last cacluation is reported on the line below.\n",
        "3.0 * (1.2 + 4.5)"
      ],
      "execution_count": 0,
      "outputs": [
        {
          "output_type": "execute_result",
          "data": {
            "text/plain": [
              "17.1"
            ]
          },
          "metadata": {
            "tags": []
          },
          "execution_count": 6
        }
      ]
    },
    {
      "cell_type": "code",
      "metadata": {
        "id": "y_0Itvf4cV6c",
        "colab_type": "code",
        "cellView": "form",
        "outputId": "1d8331b9-82dc-4783-d6e6-11320b529f72",
        "colab": {
          "base_uri": "https://localhost:8080/",
          "height": 33
        }
      },
      "source": [
        "#@title Variable Names\n",
        "# You can store values in variables\n",
        "x = 1.2\n",
        "y = 4.5\n",
        "multiplier = 3.0  # variable names can be full words to remind you what they hold\n",
        "\n",
        "multiplier * (x + y)"
      ],
      "execution_count": 0,
      "outputs": [
        {
          "output_type": "execute_result",
          "data": {
            "text/plain": [
              "17.1"
            ]
          },
          "metadata": {
            "tags": []
          },
          "execution_count": 2
        }
      ]
    },
    {
      "cell_type": "code",
      "metadata": {
        "id": "qEx9dWUtgwvK",
        "colab_type": "code",
        "cellView": "form",
        "outputId": "568da92a-2358-4cb1-ff74-331cdbb9af84",
        "colab": {
          "base_uri": "https://localhost:8080/",
          "height": 50
        }
      },
      "source": [
        "#@title Print\n",
        "# If you want to keep track of values along the way you use a print statement\n",
        "\n",
        "x = 1.2\n",
        "y = 4.5\n",
        "\n",
        "# display the value of x and y\n",
        "print(f\"x: {x} y: {y}\")\n",
        "\n",
        "multiplier = 3.0  # variable names can be full words to remind you what they hold\n",
        "\n",
        "res = multiplier * (x + y)\n",
        "# report the result\n",
        "print(f\"The result is {res}\")"
      ],
      "execution_count": 0,
      "outputs": [
        {
          "output_type": "stream",
          "text": [
            "x: 1.2 y: 4.5\n",
            "The result is 17.1\n"
          ],
          "name": "stdout"
        }
      ]
    },
    {
      "cell_type": "code",
      "metadata": {
        "id": "EAaf53u-jxp0",
        "colab_type": "code",
        "cellView": "form",
        "outputId": "4f8fb35f-dab5-4f36-dbba-da7deac4b829",
        "colab": {
          "base_uri": "https://localhost:8080/",
          "height": 33
        }
      },
      "source": [
        "#@title Library\n",
        "# for more sophisticated calculations (for example with sin, cos or exp) \n",
        "# we need to pull in a library.\n",
        "import numpy as np  # a library with math functions\n",
        "\n",
        "# get in the habit of using comments to annotate the units of your values\n",
        "t = 0.45 # seconds\n",
        "v0 = 4.3 # volts\n",
        "k = 2.3 # 1/sec\n",
        "\n",
        "v_at_t = v0 * np.exp( -k * t )\n",
        "\n",
        "# use formating to control the output\n",
        "print(f\"At t={t}s the voltage drops to {v_at_t:6.3f}V\") "
      ],
      "execution_count": 0,
      "outputs": [
        {
          "output_type": "stream",
          "text": [
            "At t=0.45s the voltage drops to  1.527V\n"
          ],
          "name": "stdout"
        }
      ]
    },
    {
      "cell_type": "markdown",
      "metadata": {
        "id": "bZXMckM2tHEi",
        "colab_type": "text"
      },
      "source": [
        "## Magics and Extras\n",
        "These are mysterious tricks which allow you to do fancy things with a Jupyter Notebook"
      ]
    },
    {
      "cell_type": "markdown",
      "metadata": {
        "id": "ltJR9hjhwqJG",
        "colab_type": "text"
      },
      "source": [
        "### %%html \n",
        "will allow you to place HTML code directly into a code cell."
      ]
    },
    {
      "cell_type": "markdown",
      "metadata": {
        "id": "EzL2Emd2wv5Y",
        "colab_type": "text"
      },
      "source": [
        "#### html `<table>` tag\n",
        "for more control than the markdown syntax"
      ]
    },
    {
      "cell_type": "code",
      "metadata": {
        "id": "f4gQkM7ms60f",
        "colab_type": "code",
        "outputId": "b8e5d928-cab2-4ddb-f085-04c1d5df2b73",
        "colab": {
          "base_uri": "https://localhost:8080/",
          "height": 71
        }
      },
      "source": [
        "%%html\n",
        "<table>\n",
        "<tr>\n",
        "<th>Header 1</th>\n",
        "<th>Header 2</th>\n",
        "</tr>\n",
        "<tr>\n",
        "<td>row 1, cell 1</td>\n",
        "<td>row 1, cell 2</td>\n",
        "</tr>\n",
        "<tr>\n",
        "<td>row 2, cell 1</td>\n",
        "<td>row 2, cell 2</td>\n",
        "</tr>\n",
        "</table>"
      ],
      "execution_count": 0,
      "outputs": [
        {
          "output_type": "display_data",
          "data": {
            "text/html": [
              "<table>\n",
              "<tr>\n",
              "<th>Header 1</th>\n",
              "<th>Header 2</th>\n",
              "</tr>\n",
              "<tr>\n",
              "<td>row 1, cell 1</td>\n",
              "<td>row 1, cell 2</td>\n",
              "</tr>\n",
              "<tr>\n",
              "<td>row 2, cell 1</td>\n",
              "<td>row 2, cell 2</td>\n",
              "</tr>\n",
              "</table>"
            ],
            "text/plain": [
              "<IPython.core.display.HTML object>"
            ]
          },
          "metadata": {
            "tags": []
          }
        }
      ]
    },
    {
      "cell_type": "markdown",
      "metadata": {
        "id": "SEYm1MoawT2k",
        "colab_type": "text"
      },
      "source": [
        "#### html `<iframe>` tag\n",
        "Embed a Video so it can be seen in the notebook."
      ]
    },
    {
      "cell_type": "code",
      "metadata": {
        "id": "fPRT4ufLtUDO",
        "colab_type": "code",
        "outputId": "96c3e1e1-a01c-4cf3-b532-e6f77089e391",
        "colab": {
          "base_uri": "https://localhost:8080/",
          "height": 335
        }
      },
      "source": [
        "%%html\n",
        "<iframe width=\"560\" height=\"315\" src=\"https://www.youtube.com/embed/FqkwoM---OM?rel=0\" frameborder=\"0\" allow=\"accelerometer; autoplay; encrypted-media; gyroscope; picture-in-picture\" allowfullscreen></iframe>"
      ],
      "execution_count": 0,
      "outputs": [
        {
          "output_type": "display_data",
          "data": {
            "text/html": [
              "<iframe width=\"560\" height=\"315\" src=\"https://www.youtube.com/embed/FqkwoM---OM?rel=0\" frameborder=\"0\" allow=\"accelerometer; autoplay; encrypted-media; gyroscope; picture-in-picture\" allowfullscreen></iframe>\n",
              "<!--video width=\"320px\" height=\"240px\">\n",
              "  <source src=\"https://youtu.be/FqkwoM---OM\"/>\n",
              "  \n",
              "</video-->"
            ],
            "text/plain": [
              "<IPython.core.display.HTML object>"
            ]
          },
          "metadata": {
            "tags": []
          }
        }
      ]
    }
  ]
}