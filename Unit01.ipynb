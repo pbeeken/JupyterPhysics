{
  "nbformat": 4,
  "nbformat_minor": 0,
  "metadata": {
    "colab": {
      "name": "Unit01.ipynb",
      "provenance": [],
      "collapsed_sections": [],
      "authorship_tag": "ABX9TyOWW1hvVMtXxMU08equn8kA",
      "include_colab_link": true
    },
    "kernelspec": {
      "name": "python3",
      "display_name": "Python 3"
    }
  },
  "cells": [
    {
      "cell_type": "markdown",
      "metadata": {
        "id": "view-in-github",
        "colab_type": "text"
      },
      "source": [
        "<a href=\"https://colab.research.google.com/github/pbeeken/JupyterPhysics/blob/master/Unit01.ipynb\" target=\"_parent\"><img src=\"https://colab.research.google.com/assets/colab-badge.svg\" alt=\"Open In Colab\"/></a>"
      ]
    },
    {
      "cell_type": "markdown",
      "metadata": {
        "id": "68JFfFxVyaxO",
        "colab_type": "text"
      },
      "source": [
        "# Kinematics\n",
        "In One Dimention"
      ]
    },
    {
      "cell_type": "markdown",
      "metadata": {
        "id": "EKarlLZi6zLB",
        "colab_type": "text"
      },
      "source": [
        "**How do we make preditictions of how long it takes to go from one place to another?**\n",
        "\n",
        "Suppose we look at the distance of a car from *Home* headed to *Destination* over time:\n",
        "\n",
        "|time [m]|dist [km]|\n",
        "|--:|--:|\n",
        "|  0.0|  0.0|\n",
        "|  6.9|  6.5|\n",
        "| 19.5| 24.1|\n",
        "| 32.1| 29.8|\n",
        "| 47.3| 45.7|\n",
        "| 60.0| 47.2|\n",
        "| 72.7| 70.7|\n",
        "| 83.5| 71.2|\n",
        "\n",
        " - What was the average speed during this entire trip?\n",
        "$$\\overline{v} = \\Delta x / \\Delta t$$\n",
        "\n",
        " - Based on the above average how much time would you predict the trip would take from the start until you got to $30 km$?\n",
        "  - How far away is the prediction from the actual time it took to get to $30km$.\n",
        "  - \n",
        "\n",
        " - Suppose you were at $25 km$ and wanted to predict how long the rest of the trip would take when would you predict you'd arrive at the destination?\n"
      ]
    },
    {
      "cell_type": "code",
      "metadata": {
        "id": "mnCY5ZkiE-ve",
        "colab_type": "code",
        "colab": {
          "base_uri": "https://localhost:8080/",
          "height": 66
        },
        "outputId": "4b3c1532-4f30-4c16-ebd4-13993219d101"
      },
      "source": [
        "def avg_speed(delta_x, delta_t):\n",
        "  return delta_x / delta_t\n",
        "\n",
        "avg_spd = avg_speed(71.2, 83.5) # km/min\n",
        "print(f\"overall average speed: {avg_spd:8.3f} km/min\")\n",
        "\n",
        "time_to_30 = 30 / avg_spd\n",
        "print(f\"time to 30km: {time_to_30:8.3f} min\")\n",
        "\n",
        "deviation = (time_to_30 - 32.1)/32.1  # fraction\n",
        "print(f\"{100 * deviation:5.2}% deviation\")"
      ],
      "execution_count": 24,
      "outputs": [
        {
          "output_type": "stream",
          "text": [
            "overall average speed:    0.853 km/min\n",
            "time to 30km:   35.183 min\n",
            "  9.6% deviation\n"
          ],
          "name": "stdout"
        }
      ]
    },
    {
      "cell_type": "code",
      "metadata": {
        "id": "dQPBmeLd9VGS",
        "colab_type": "code",
        "colab": {
          "base_uri": "https://localhost:8080/",
          "height": 397
        },
        "cellView": "form",
        "outputId": "e4efc544-dc6c-4999-c4d0-d310fa2a0f66"
      },
      "source": [
        "#@title data generator\n",
        "import numpy as np\n",
        "import matplotlib.pyplot as plt\n",
        "\n",
        "time = np.linspace(0.0, 90.0, num=8) + np.random.laplace(0, 2.0, 8)\n",
        "dist = np.linspace(0.0, 70.0, num=8) + np.random.laplace(0, 4.0, 8)\n",
        "\n",
        "time = time - np.min(time)\n",
        "dist = dist - np.min(dist)\n",
        "\n",
        "plt.scatter(time,dist)\n",
        "plt.show()\n",
        "\n",
        "for i in range(len(time)):\n",
        "  print(f\"|{time[i]:5.1f}|{dist[i]:5.1f}|\")"
      ],
      "execution_count": 16,
      "outputs": [
        {
          "output_type": "display_data",
          "data": {
            "image/png": "[encoded data removed]",
            "text/plain": [
              "<Figure size 432x288 with 1 Axes>"
            ]
          },
          "metadata": {
            "tags": [],
            "needs_background": "light"
          }
        },
        {
          "output_type": "stream",
          "text": [
            "|  0.0|  0.0|\n",
            "|  6.9|  6.5|\n",
            "| 19.5| 24.1|\n",
            "| 32.1| 29.8|\n",
            "| 47.3| 45.7|\n",
            "| 60.0| 47.2|\n",
            "| 72.7| 70.7|\n",
            "| 83.5| 71.2|\n"
          ],
          "name": "stdout"
        }
      ]
    },
    {
      "cell_type": "markdown",
      "metadata": {
        "id": "9ov-nlF0yiUQ",
        "colab_type": "text"
      },
      "source": [
        "If you are $70. km$ from a destination and can travel at $35. km/hr$ how long would it take to get to where you were going?\n",
        "\n",
        "Since we are just starting out lets look how would in a code cell:\n",
        "```python\n",
        "distance = 70. # km\n",
        "velocity = 35. # km/hr\n",
        "\n",
        "time = distance / velocity  # What should the units be for the time?\n",
        "```\n",
        "Notice the setup.  Use variables names that clearly delineate what they contain.   It is a good practice to label the values with their units. \n",
        "\n",
        "\n",
        "More importantly, how would you generalize the expression for this operation?\n"
      ]
    },
    {
      "cell_type": "code",
      "metadata": {
        "id": "sehXFi5qyXKN",
        "colab_type": "code",
        "cellView": "form",
        "colab": {}
      },
      "source": [
        "#@title Try Your Calculations Here\n"
      ],
      "execution_count": 0,
      "outputs": []
    },
    {
      "cell_type": "markdown",
      "metadata": {
        "id": "pHaQPRN_4_7Y",
        "colab_type": "text"
      },
      "source": [
        "When we travel from one point to another at a speed $v$ how might we determine how far we have traveled $\\Delta x$ given fixed interval of time $\\Delta t$?\n",
        "\n",
        "$$ \\Delta x = v \\; \\Delta t$$"
      ]
    },
    {
      "cell_type": "code",
      "metadata": {
        "id": "L-J-1Crm9NDo",
        "colab_type": "code",
        "cellView": "both",
        "colab": {}
      },
      "source": [
        "#@title Implementation speed\n",
        "def dist(v, dt):\n",
        "  return v * dt\n",
        "\n"
      ],
      "execution_count": 0,
      "outputs": []
    }
  ]
}