{
  "nbformat": 4,
  "nbformat_minor": 0,
  "metadata": {
    "colab": {
      "name": "Unit01.ipynb",
      "provenance": [],
      "authorship_tag": "ABX9TyOx1HCdj1JPMJ2mgkLODD9B",
      "include_colab_link": true
    },
    "kernelspec": {
      "name": "python3",
      "display_name": "Python 3"
    }
  },
  "cells": [
    {
      "cell_type": "markdown",
      "metadata": {
        "id": "view-in-github",
        "colab_type": "text"
      },
      "source": [
        "<a href=\"https://colab.research.google.com/github/pbeeken/JupyterPhysics/blob/master/Unit01.ipynb\" target=\"_parent\"><img src=\"https://colab.research.google.com/assets/colab-badge.svg\" alt=\"Open In Colab\"/></a>"
      ]
    },
    {
      "cell_type": "markdown",
      "metadata": {
        "id": "68JFfFxVyaxO",
        "colab_type": "text"
      },
      "source": [
        "# Kinematics\n",
        "Motion without notion"
      ]
    },
    {
      "cell_type": "markdown",
      "metadata": {
        "id": "9ov-nlF0yiUQ",
        "colab_type": "text"
      },
      "source": [
        "If you are $70. km$ from a destination and can travel at $35. km/hr$ how long would it take to get to where you were going?\n",
        "\n",
        "Since we are just starting out lets look how would in a code cell:\n",
        "```python\n",
        "distance = 70. # km\n",
        "velocity = 35. # km/hr\n",
        "\n",
        "time = distance / velocity  # What should the units be for the time?\n",
        "```\n",
        "Notice the setup.  Use variables names that clearly delineate what they contain.   It is a good practice to label the values with their units. \n",
        "\n",
        "\n",
        "More importantly, how would you generalize the expression for this operation?\n"
      ]
    },
    {
      "cell_type": "code",
      "metadata": {
        "id": "sehXFi5qyXKN",
        "colab_type": "code",
        "cellView": "form",
        "colab": {}
      },
      "source": [
        "#@title Try Your Calculations Here\n"
      ],
      "execution_count": 0,
      "outputs": []
    },
    {
      "cell_type": "markdown",
      "metadata": {
        "id": "pHaQPRN_4_7Y",
        "colab_type": "text"
      },
      "source": [
        "When we travel from one point to another at a speed $v$ how might we determine how far we have traveled $\\Delta x$ given fixed interval of time $\\Delta t$?\n",
        "\n",
        "$$ \\Delta x = v \\; \\Delta t$$"
      ]
    },
    {
      "cell_type": "code",
      "metadata": {
        "id": "L-J-1Crm9NDo",
        "colab_type": "code",
        "cellView": "both",
        "colab": {}
      },
      "source": [
        "#@title Implementation speed\n",
        "def dist(v, dt):\n",
        "  return v * dt\n",
        "\n"
      ],
      "execution_count": 0,
      "outputs": []
    }
  ]
}